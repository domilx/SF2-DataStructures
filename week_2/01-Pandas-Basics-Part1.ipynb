{
 "cells": [
  {
   "cell_type": "markdown",
   "metadata": {},
   "source": [
    "# Data Analysis (pandas)"
   ]
  },
  {
   "cell_type": "markdown",
   "metadata": {},
   "source": [
    "This series of lessons will focus on [pandas](https://pandas.pydata.org/pandas-docs/stable/getting_started/overview.html), a powerful Python library for working with tabular data like CSV files.\n",
    "\n",
    "This incredible workbook is authored by [Melanie Walsh](https://melaniewalsh.org/) (with minor modifications) and is available as part of her open-source book [Introduction to Cultural Analytics & Python](https://melaniewalsh.github.io/Intro-Cultural-Analytics/welcome.html)."
   ]
  },
  {
   "cell_type": "markdown",
   "metadata": {},
   "source": [
    "This file is an example of a Jupyter Notebook. A Jupyter notebook is a document that can combine live programming code, text (formatted using something called Markdown), images, and pretty displays of data all in the same place. This combination makes Jupyter notebooks useful for exploring data as well as for learning and teaching.\n",
    "\n",
    "A Jupyter notebook has a special .ipynb file extension and can only be opened if you have the application JupyterLab or Jupyter Notebook installed and running, or on a cloud server like Binder."
   ]
  },
  {
   "cell_type": "markdown",
   "metadata": {},
   "source": [
    "# pandas basics — Part 1"
   ]
  },
  {
   "cell_type": "markdown",
   "metadata": {},
   "source": [
    "*Note: You can explore the [associated workbook](https://mybinder.org/v2/gh/melaniewalsh/Intro-Cultural-Analytics/master?urlpath=lab/tree/book/03-Data-Analysis/workbooks/01.5-Pandas-Basics-Part1-WORKBOOK.ipynb) for this chapter in the cloud.*"
   ]
  },
  {
   "cell_type": "markdown",
   "metadata": {},
   "source": [
    "In this lesson, we're going to introduce some of the basics of [pandas](https://pandas.pydata.org/pandas-docs/stable/getting_started/overview.html), a powerful Python library for working with tabular data like CSV files.  A CSV file is like an Excel file, basically with column headings and rows of data.\n",
    "\n",
    "We will cover how to:\n",
    "\n",
    "* import pandas\n",
    "* Read in a CSV file\n",
    "* Explore and filter data\n",
    "* Make simple plots and data visualizations\n",
    "* Write to a CSV file\n",
    "\n",
    "___\n",
    "\n",
    "## Dataset\n",
    "### The Bellevue Almshouse Dataset"
   ]
  },
  {
   "cell_type": "markdown",
   "metadata": {},
   "source": [
    "<blockquote class=\"epigraph\" style=\" padding: 10px\">\n",
    "\n",
    "Nineteenth-century immigration data was produced with the express purpose of reducing people to bodies; bodies to easily quantifiable aspects; and assigning value to those aspects which proved that the marginalized people to who they belonged were worth less than their elite counterparts.\n",
    "\n",
    "-Anelise Shrout, [\"(Re)Humanizing Data\"](https://crdh.rrchnm.org/essays/v01-10-(re)-humanizing-data/)\n",
    "</blockquote>\n"
   ]
  },
  {
   "cell_type": "markdown",
   "metadata": {},
   "source": [
    "The dataset that we're working with in this lesson is the [Bellevue Almshouse Dataset](https://www.nyuirish.net/almshouse/the-almshouse-records/), created by historian and DH scholar Anelise Shrout. It includes information about Irish-born immigrants who were admitted to New York City's Bellevue Almshouse in the 1840s.\n",
    "\n",
    "The Bellevue Almshouse was part of New York City's public health system, a place where poor, sick, homeless, and otherwise marginalized people were sent — sometimes voluntarily and sometimes forcibly. Devastated by widespread famine in Ireland, many Irish people fled their homes for New York City in the 1840s, and many of them ended up in the Bellevue Almshouse.\n",
    "\n",
    "We're using the [Bellevue Almshouse Dataset](https://www.nyuirish.net/almshouse/the-almshouse-records/) to practice data analysis with Pandas because we want to think deeply about the consequences of reducing human life to data. As Shrout argues in [her essay](https://crdh.rrchnm.org/essays/v01-10-(re)-humanizing-data/), this data purposely reduced people to bodies and \"easily quantifiable aspects\" in order to devalue their lives, potentially enacting \"both epistemic and physical violence\" on them.\n",
    "\n",
    "We want to think about how responsible data analysis requires more than just technical tools like Pandas. It also requires an interrogation of the data. Who collected this data? How and why was this data collected? What assumptions are present in this data? What are the consequences of this data in the world? What does this data reflect about the world? For example, Shrout claims that the \"Bellevue administrators framed any ailments or difficulties inmates might have had as a consequence of [their immigration] status\" — perhaps best exemplified by the fact that a frequent \"disease\" in the dataset is \"recent emigrant.\" Below we're going to explore the prevalence of \"recent emigrant\" in the data as well as other salient patterns.\n",
    "\n",
    "___\n",
    "\n",
    "## Import pandas\n",
    "\n",
    "To use the Pandas library, we first need to `import` it."
   ]
  },
  {
   "cell_type": "code",
   "execution_count": 1,
   "metadata": {},
   "outputs": [],
   "source": [
    "import pandas as pd"
   ]
  },
  {
   "cell_type": "markdown",
   "metadata": {},
   "source": [
    "The above `import` statement not only imports the `pandas` library but also gives it an alias or nickname — `pd`. This alias will save us from having to type out the entire words `pandas` each time we need to use it. Many Python libraries have commonly used aliases like `pd`."
   ]
  },
  {
   "cell_type": "markdown",
   "metadata": {},
   "source": [
    "## Set Display Settings"
   ]
  },
  {
   "cell_type": "markdown",
   "metadata": {},
   "source": [
    "By default, `pandas` will display 60 rows and 20 columns. I often change [pandas' default display settings](https://pandas.pydata.org/pandas-docs/stable/user_guide/options.html) to show more rows or columns."
   ]
  },
  {
   "cell_type": "code",
   "execution_count": 2,
   "metadata": {},
   "outputs": [],
   "source": [
    "pd.options.display.max_rows = 100"
   ]
  },
  {
   "cell_type": "markdown",
   "metadata": {},
   "source": [
    "## Read in CSV File"
   ]
  },
  {
   "cell_type": "markdown",
   "metadata": {},
   "source": [
    "To read in a CSV file, we will use the function `pd.read_csv()` and insert the name of our desired file path. "
   ]
  },
  {
   "cell_type": "code",
   "execution_count": 3,
   "metadata": {},
   "outputs": [],
   "source": [
    "bellevue_df = pd.read_csv('bellevue_almshouse_dataset.csv', delimiter=\",\")"
   ]
  },
  {
   "cell_type": "markdown",
   "metadata": {},
   "source": [
    "This creates a pandas [DataFrame object](https://pandas.pydata.org/pandas-docs/stable/user_guide/dsintro.html#dataframe) — often abbreviated as **df**, e.g., **bellevue_df**. A DataFrame looks and acts a lot like a spreadsheet. But it has special powers and functions that we will discuss in the next few lessons.\n",
    "\n",
    "When reading in the CSV file, we also specified the `encoding` and `delimiter`. The `delimiter` specifies the character that separates or \"delimits\" the columns in our dataset. For CSV files, the delimiter will most often be a comma. (CSV is short for *Comma Separated Values*.) Sometimes, however, the delimiter of a CSV file might be a tab (`\\t`) or, more rarely, another character.\n",
    "\n",
    "## Display Data\n",
    "\n",
    "We can display a DataFrame in a Jupyter notebook simply by running a cell with the variable name of the DataFrame. When a code cell ends with a variable name, it is the same as printing the contents of that variable.\n",
    "\n",
    ":::<code>NaN</code> is the `pandas` value for any missing data. See <a href=\"https://pandas.pydata.org/pandas-docs/stable/user_guide/missing_data.html?highlight=nan/\">\"Working with missing data\"</a> for more information.\n",
    ":::"
   ]
  },
  {
   "cell_type": "code",
   "execution_count": 4,
   "metadata": {},
   "outputs": [
    {
     "data": {
      "text/html": [
       "<div>\n",
       "<style scoped>\n",
       "    .dataframe tbody tr th:only-of-type {\n",
       "        vertical-align: middle;\n",
       "    }\n",
       "\n",
       "    .dataframe tbody tr th {\n",
       "        vertical-align: top;\n",
       "    }\n",
       "\n",
       "    .dataframe thead th {\n",
       "        text-align: right;\n",
       "    }\n",
       "</style>\n",
       "<table border=\"1\" class=\"dataframe\">\n",
       "  <thead>\n",
       "    <tr style=\"text-align: right;\">\n",
       "      <th></th>\n",
       "      <th>date_in</th>\n",
       "      <th>first_name</th>\n",
       "      <th>last_name</th>\n",
       "      <th>full_name</th>\n",
       "      <th>age</th>\n",
       "      <th>gender</th>\n",
       "      <th>disease</th>\n",
       "      <th>profession</th>\n",
       "      <th>children</th>\n",
       "      <th>sent_to</th>\n",
       "      <th>sender1</th>\n",
       "      <th>sender2</th>\n",
       "    </tr>\n",
       "  </thead>\n",
       "  <tbody>\n",
       "    <tr>\n",
       "      <th>0</th>\n",
       "      <td>1847-04-17</td>\n",
       "      <td>Mary</td>\n",
       "      <td>Gallagher</td>\n",
       "      <td>Mary Gallagher</td>\n",
       "      <td>28.0</td>\n",
       "      <td>f</td>\n",
       "      <td>recent emigrant</td>\n",
       "      <td>married</td>\n",
       "      <td>Child Alana 10 days</td>\n",
       "      <td>Hospital</td>\n",
       "      <td>superintendent</td>\n",
       "      <td>hd. gibbens</td>\n",
       "    </tr>\n",
       "    <tr>\n",
       "      <th>1</th>\n",
       "      <td>1847-04-08</td>\n",
       "      <td>John</td>\n",
       "      <td>Sanin (?)</td>\n",
       "      <td>John Sanin (?)</td>\n",
       "      <td>19.0</td>\n",
       "      <td>m</td>\n",
       "      <td>recent emigrant</td>\n",
       "      <td>laborer</td>\n",
       "      <td>Catherine 2 mo</td>\n",
       "      <td>NaN</td>\n",
       "      <td>george w. anderson</td>\n",
       "      <td>edward witherell</td>\n",
       "    </tr>\n",
       "    <tr>\n",
       "      <th>2</th>\n",
       "      <td>1847-04-17</td>\n",
       "      <td>Anthony</td>\n",
       "      <td>Clark</td>\n",
       "      <td>Anthony Clark</td>\n",
       "      <td>60.0</td>\n",
       "      <td>m</td>\n",
       "      <td>recent emigrant</td>\n",
       "      <td>laborer</td>\n",
       "      <td>Charles Riley afed 10 days</td>\n",
       "      <td>Hospital</td>\n",
       "      <td>george w. anderson</td>\n",
       "      <td>edward witherell</td>\n",
       "    </tr>\n",
       "    <tr>\n",
       "      <th>3</th>\n",
       "      <td>1847-04-08</td>\n",
       "      <td>Lawrence</td>\n",
       "      <td>Feeney</td>\n",
       "      <td>Lawrence Feeney</td>\n",
       "      <td>32.0</td>\n",
       "      <td>m</td>\n",
       "      <td>recent emigrant</td>\n",
       "      <td>laborer</td>\n",
       "      <td>Child</td>\n",
       "      <td>NaN</td>\n",
       "      <td>george w. anderson</td>\n",
       "      <td>james donnelly</td>\n",
       "    </tr>\n",
       "    <tr>\n",
       "      <th>4</th>\n",
       "      <td>1847-04-13</td>\n",
       "      <td>Henry</td>\n",
       "      <td>Joyce</td>\n",
       "      <td>Henry Joyce</td>\n",
       "      <td>21.0</td>\n",
       "      <td>m</td>\n",
       "      <td>recent emigrant</td>\n",
       "      <td>NaN</td>\n",
       "      <td>Child 1 mo</td>\n",
       "      <td>NaN</td>\n",
       "      <td>george w. anderson</td>\n",
       "      <td>edward witherell</td>\n",
       "    </tr>\n",
       "    <tr>\n",
       "      <th>...</th>\n",
       "      <td>...</td>\n",
       "      <td>...</td>\n",
       "      <td>...</td>\n",
       "      <td>...</td>\n",
       "      <td>...</td>\n",
       "      <td>...</td>\n",
       "      <td>...</td>\n",
       "      <td>...</td>\n",
       "      <td>...</td>\n",
       "      <td>...</td>\n",
       "      <td>...</td>\n",
       "      <td>...</td>\n",
       "    </tr>\n",
       "    <tr>\n",
       "      <th>9593</th>\n",
       "      <td>1846-05-23</td>\n",
       "      <td>Joseph</td>\n",
       "      <td>Aton</td>\n",
       "      <td>Joseph Aton</td>\n",
       "      <td>69.0</td>\n",
       "      <td>m</td>\n",
       "      <td>NaN</td>\n",
       "      <td>shoemaker</td>\n",
       "      <td>NaN</td>\n",
       "      <td>NaN</td>\n",
       "      <td>[blank]</td>\n",
       "      <td>NaN</td>\n",
       "    </tr>\n",
       "    <tr>\n",
       "      <th>9594</th>\n",
       "      <td>1847-06-17</td>\n",
       "      <td>Mary</td>\n",
       "      <td>Smith</td>\n",
       "      <td>Mary Smith</td>\n",
       "      <td>47.0</td>\n",
       "      <td>f</td>\n",
       "      <td>NaN</td>\n",
       "      <td>NaN</td>\n",
       "      <td>NaN</td>\n",
       "      <td>Hospital Ward 38</td>\n",
       "      <td>[blank]</td>\n",
       "      <td>NaN</td>\n",
       "    </tr>\n",
       "    <tr>\n",
       "      <th>9595</th>\n",
       "      <td>1847-06-22</td>\n",
       "      <td>Francis</td>\n",
       "      <td>Riley</td>\n",
       "      <td>Francis Riley</td>\n",
       "      <td>29.0</td>\n",
       "      <td>m</td>\n",
       "      <td>lame</td>\n",
       "      <td>superintendent</td>\n",
       "      <td>NaN</td>\n",
       "      <td>NaN</td>\n",
       "      <td>[blank]</td>\n",
       "      <td>NaN</td>\n",
       "    </tr>\n",
       "    <tr>\n",
       "      <th>9596</th>\n",
       "      <td>1847-07-02</td>\n",
       "      <td>Martin</td>\n",
       "      <td>Dunn</td>\n",
       "      <td>Martin Dunn</td>\n",
       "      <td>4.0</td>\n",
       "      <td>m</td>\n",
       "      <td>NaN</td>\n",
       "      <td>NaN</td>\n",
       "      <td>NaN</td>\n",
       "      <td>NaN</td>\n",
       "      <td>[blank]</td>\n",
       "      <td>NaN</td>\n",
       "    </tr>\n",
       "    <tr>\n",
       "      <th>9597</th>\n",
       "      <td>1847-07-08</td>\n",
       "      <td>Elizabeth</td>\n",
       "      <td>Post</td>\n",
       "      <td>Elizabeth Post</td>\n",
       "      <td>32.0</td>\n",
       "      <td>f</td>\n",
       "      <td>NaN</td>\n",
       "      <td>NaN</td>\n",
       "      <td>NaN</td>\n",
       "      <td>Hospital</td>\n",
       "      <td>[blank]</td>\n",
       "      <td>NaN</td>\n",
       "    </tr>\n",
       "  </tbody>\n",
       "</table>\n",
       "<p>9598 rows × 12 columns</p>\n",
       "</div>"
      ],
      "text/plain": [
       "         date_in first_name  last_name        full_name   age gender  \\\n",
       "0     1847-04-17       Mary  Gallagher   Mary Gallagher  28.0      f   \n",
       "1     1847-04-08       John  Sanin (?)   John Sanin (?)  19.0      m   \n",
       "2     1847-04-17    Anthony      Clark    Anthony Clark  60.0      m   \n",
       "3     1847-04-08   Lawrence     Feeney  Lawrence Feeney  32.0      m   \n",
       "4     1847-04-13      Henry      Joyce      Henry Joyce  21.0      m   \n",
       "...          ...        ...        ...              ...   ...    ...   \n",
       "9593  1846-05-23     Joseph       Aton      Joseph Aton  69.0      m   \n",
       "9594  1847-06-17       Mary      Smith       Mary Smith  47.0      f   \n",
       "9595  1847-06-22    Francis      Riley    Francis Riley  29.0      m   \n",
       "9596  1847-07-02     Martin       Dunn      Martin Dunn   4.0      m   \n",
       "9597  1847-07-08  Elizabeth       Post   Elizabeth Post  32.0      f   \n",
       "\n",
       "              disease      profession                    children  \\\n",
       "0     recent emigrant         married         Child Alana 10 days   \n",
       "1     recent emigrant         laborer              Catherine 2 mo   \n",
       "2     recent emigrant         laborer  Charles Riley afed 10 days   \n",
       "3     recent emigrant         laborer                       Child   \n",
       "4     recent emigrant             NaN                  Child 1 mo   \n",
       "...               ...             ...                         ...   \n",
       "9593              NaN       shoemaker                         NaN   \n",
       "9594              NaN             NaN                         NaN   \n",
       "9595             lame  superintendent                         NaN   \n",
       "9596              NaN             NaN                         NaN   \n",
       "9597              NaN             NaN                         NaN   \n",
       "\n",
       "               sent_to             sender1           sender2  \n",
       "0             Hospital      superintendent       hd. gibbens  \n",
       "1                  NaN  george w. anderson  edward witherell  \n",
       "2             Hospital  george w. anderson  edward witherell  \n",
       "3                  NaN  george w. anderson    james donnelly  \n",
       "4                  NaN  george w. anderson  edward witherell  \n",
       "...                ...                 ...               ...  \n",
       "9593               NaN             [blank]               NaN  \n",
       "9594  Hospital Ward 38             [blank]               NaN  \n",
       "9595               NaN             [blank]               NaN  \n",
       "9596               NaN             [blank]               NaN  \n",
       "9597          Hospital             [blank]               NaN  \n",
       "\n",
       "[9598 rows x 12 columns]"
      ]
     },
     "execution_count": 4,
     "metadata": {},
     "output_type": "execute_result"
    }
   ],
   "source": [
    "bellevue_df"
   ]
  },
  {
   "cell_type": "markdown",
   "metadata": {},
   "source": [
    "There are a few important things to note about the DataFrame displayed here:\n",
    "\n",
    "* Index\n",
    "    * The bolded ascending numbers in the very left-hand column of the DataFrame is called the pandas *Index*. You can select rows based on the Index.\n",
    "    * By default, the Index is a sequence of numbers starting with zero. However, you can change the Index to something else, such as one of the columns in your dataset.\n",
    "\n",
    "* Truncation\n",
    "    * The DataFrame is truncated, signaled by the ellipses in the middle `...` of every column.\n",
    "    * The DataFrame is truncated because we set our default display settings to 100 rows. Anything more than 100 rows will be truncated. To display all the rows, we would need to alter pandas' default display settings yet again.\n",
    "\n",
    "* Rows x Columns\n",
    "    * Pandas reports how many rows and columns are in this dataset at the bottom of the output (9584 x 8 columns).\n",
    "    * This is very useful!"
   ]
  },
  {
   "cell_type": "markdown",
   "metadata": {},
   "source": [
    "### Display First *n* Rows\n",
    "\n",
    "To look at the first *n* rows in a DataFrame, we can use a method called `.head()`."
   ]
  },
  {
   "cell_type": "code",
   "execution_count": 6,
   "metadata": {},
   "outputs": [
    {
     "data": {
      "text/html": [
       "<div>\n",
       "<style scoped>\n",
       "    .dataframe tbody tr th:only-of-type {\n",
       "        vertical-align: middle;\n",
       "    }\n",
       "\n",
       "    .dataframe tbody tr th {\n",
       "        vertical-align: top;\n",
       "    }\n",
       "\n",
       "    .dataframe thead th {\n",
       "        text-align: right;\n",
       "    }\n",
       "</style>\n",
       "<table border=\"1\" class=\"dataframe\">\n",
       "  <thead>\n",
       "    <tr style=\"text-align: right;\">\n",
       "      <th></th>\n",
       "      <th>date_in</th>\n",
       "      <th>first_name</th>\n",
       "      <th>last_name</th>\n",
       "      <th>full_name</th>\n",
       "      <th>age</th>\n",
       "      <th>gender</th>\n",
       "      <th>disease</th>\n",
       "      <th>profession</th>\n",
       "      <th>children</th>\n",
       "      <th>sent_to</th>\n",
       "      <th>sender1</th>\n",
       "      <th>sender2</th>\n",
       "    </tr>\n",
       "  </thead>\n",
       "  <tbody>\n",
       "    <tr>\n",
       "      <th>0</th>\n",
       "      <td>1847-04-17</td>\n",
       "      <td>Mary</td>\n",
       "      <td>Gallagher</td>\n",
       "      <td>Mary Gallagher</td>\n",
       "      <td>28.0</td>\n",
       "      <td>f</td>\n",
       "      <td>recent emigrant</td>\n",
       "      <td>married</td>\n",
       "      <td>Child Alana 10 days</td>\n",
       "      <td>Hospital</td>\n",
       "      <td>superintendent</td>\n",
       "      <td>hd. gibbens</td>\n",
       "    </tr>\n",
       "    <tr>\n",
       "      <th>1</th>\n",
       "      <td>1847-04-08</td>\n",
       "      <td>John</td>\n",
       "      <td>Sanin (?)</td>\n",
       "      <td>John Sanin (?)</td>\n",
       "      <td>19.0</td>\n",
       "      <td>m</td>\n",
       "      <td>recent emigrant</td>\n",
       "      <td>laborer</td>\n",
       "      <td>Catherine 2 mo</td>\n",
       "      <td>NaN</td>\n",
       "      <td>george w. anderson</td>\n",
       "      <td>edward witherell</td>\n",
       "    </tr>\n",
       "  </tbody>\n",
       "</table>\n",
       "</div>"
      ],
      "text/plain": [
       "      date_in first_name  last_name       full_name   age gender  \\\n",
       "0  1847-04-17       Mary  Gallagher  Mary Gallagher  28.0      f   \n",
       "1  1847-04-08       John  Sanin (?)  John Sanin (?)  19.0      m   \n",
       "\n",
       "           disease profession             children   sent_to  \\\n",
       "0  recent emigrant    married  Child Alana 10 days  Hospital   \n",
       "1  recent emigrant    laborer       Catherine 2 mo       NaN   \n",
       "\n",
       "              sender1           sender2  \n",
       "0      superintendent       hd. gibbens  \n",
       "1  george w. anderson  edward witherell  "
      ]
     },
     "execution_count": 6,
     "metadata": {},
     "output_type": "execute_result"
    }
   ],
   "source": [
    "bellevue_df.head(2)"
   ]
  },
  {
   "cell_type": "code",
   "execution_count": 7,
   "metadata": {},
   "outputs": [
    {
     "data": {
      "text/html": [
       "<div>\n",
       "<style scoped>\n",
       "    .dataframe tbody tr th:only-of-type {\n",
       "        vertical-align: middle;\n",
       "    }\n",
       "\n",
       "    .dataframe tbody tr th {\n",
       "        vertical-align: top;\n",
       "    }\n",
       "\n",
       "    .dataframe thead th {\n",
       "        text-align: right;\n",
       "    }\n",
       "</style>\n",
       "<table border=\"1\" class=\"dataframe\">\n",
       "  <thead>\n",
       "    <tr style=\"text-align: right;\">\n",
       "      <th></th>\n",
       "      <th>date_in</th>\n",
       "      <th>first_name</th>\n",
       "      <th>last_name</th>\n",
       "      <th>full_name</th>\n",
       "      <th>age</th>\n",
       "      <th>gender</th>\n",
       "      <th>disease</th>\n",
       "      <th>profession</th>\n",
       "      <th>children</th>\n",
       "      <th>sent_to</th>\n",
       "      <th>sender1</th>\n",
       "      <th>sender2</th>\n",
       "    </tr>\n",
       "  </thead>\n",
       "  <tbody>\n",
       "    <tr>\n",
       "      <th>0</th>\n",
       "      <td>1847-04-17</td>\n",
       "      <td>Mary</td>\n",
       "      <td>Gallagher</td>\n",
       "      <td>Mary Gallagher</td>\n",
       "      <td>28.0</td>\n",
       "      <td>f</td>\n",
       "      <td>recent emigrant</td>\n",
       "      <td>married</td>\n",
       "      <td>Child Alana 10 days</td>\n",
       "      <td>Hospital</td>\n",
       "      <td>superintendent</td>\n",
       "      <td>hd. gibbens</td>\n",
       "    </tr>\n",
       "    <tr>\n",
       "      <th>1</th>\n",
       "      <td>1847-04-08</td>\n",
       "      <td>John</td>\n",
       "      <td>Sanin (?)</td>\n",
       "      <td>John Sanin (?)</td>\n",
       "      <td>19.0</td>\n",
       "      <td>m</td>\n",
       "      <td>recent emigrant</td>\n",
       "      <td>laborer</td>\n",
       "      <td>Catherine 2 mo</td>\n",
       "      <td>NaN</td>\n",
       "      <td>george w. anderson</td>\n",
       "      <td>edward witherell</td>\n",
       "    </tr>\n",
       "    <tr>\n",
       "      <th>2</th>\n",
       "      <td>1847-04-17</td>\n",
       "      <td>Anthony</td>\n",
       "      <td>Clark</td>\n",
       "      <td>Anthony Clark</td>\n",
       "      <td>60.0</td>\n",
       "      <td>m</td>\n",
       "      <td>recent emigrant</td>\n",
       "      <td>laborer</td>\n",
       "      <td>Charles Riley afed 10 days</td>\n",
       "      <td>Hospital</td>\n",
       "      <td>george w. anderson</td>\n",
       "      <td>edward witherell</td>\n",
       "    </tr>\n",
       "    <tr>\n",
       "      <th>3</th>\n",
       "      <td>1847-04-08</td>\n",
       "      <td>Lawrence</td>\n",
       "      <td>Feeney</td>\n",
       "      <td>Lawrence Feeney</td>\n",
       "      <td>32.0</td>\n",
       "      <td>m</td>\n",
       "      <td>recent emigrant</td>\n",
       "      <td>laborer</td>\n",
       "      <td>Child</td>\n",
       "      <td>NaN</td>\n",
       "      <td>george w. anderson</td>\n",
       "      <td>james donnelly</td>\n",
       "    </tr>\n",
       "    <tr>\n",
       "      <th>4</th>\n",
       "      <td>1847-04-13</td>\n",
       "      <td>Henry</td>\n",
       "      <td>Joyce</td>\n",
       "      <td>Henry Joyce</td>\n",
       "      <td>21.0</td>\n",
       "      <td>m</td>\n",
       "      <td>recent emigrant</td>\n",
       "      <td>NaN</td>\n",
       "      <td>Child 1 mo</td>\n",
       "      <td>NaN</td>\n",
       "      <td>george w. anderson</td>\n",
       "      <td>edward witherell</td>\n",
       "    </tr>\n",
       "    <tr>\n",
       "      <th>5</th>\n",
       "      <td>1847-04-14</td>\n",
       "      <td>Bridget</td>\n",
       "      <td>Hart</td>\n",
       "      <td>Bridget Hart</td>\n",
       "      <td>20.0</td>\n",
       "      <td>f</td>\n",
       "      <td>recent emigrant</td>\n",
       "      <td>spinster</td>\n",
       "      <td>Child</td>\n",
       "      <td>Shanty</td>\n",
       "      <td>george w. anderson</td>\n",
       "      <td>benson s. hopkins</td>\n",
       "    </tr>\n",
       "    <tr>\n",
       "      <th>6</th>\n",
       "      <td>1847-04-14</td>\n",
       "      <td>Mary</td>\n",
       "      <td>Green</td>\n",
       "      <td>Mary Green</td>\n",
       "      <td>40.0</td>\n",
       "      <td>f</td>\n",
       "      <td>recent emigrant</td>\n",
       "      <td>spinster</td>\n",
       "      <td>And child 2 months</td>\n",
       "      <td>Shanty</td>\n",
       "      <td>george w. anderson</td>\n",
       "      <td>benson s. hopkins</td>\n",
       "    </tr>\n",
       "    <tr>\n",
       "      <th>7</th>\n",
       "      <td>1847-04-19</td>\n",
       "      <td>Daniel</td>\n",
       "      <td>Loftus</td>\n",
       "      <td>Daniel Loftus</td>\n",
       "      <td>27.0</td>\n",
       "      <td>m</td>\n",
       "      <td>destitution</td>\n",
       "      <td>laborer</td>\n",
       "      <td>NaN</td>\n",
       "      <td>Hospital</td>\n",
       "      <td>george w. anderson</td>\n",
       "      <td>peter c. johnston</td>\n",
       "    </tr>\n",
       "    <tr>\n",
       "      <th>8</th>\n",
       "      <td>1847-04-10</td>\n",
       "      <td>James</td>\n",
       "      <td>Day</td>\n",
       "      <td>James Day</td>\n",
       "      <td>35.0</td>\n",
       "      <td>m</td>\n",
       "      <td>recent emigrant</td>\n",
       "      <td>laborer</td>\n",
       "      <td>NaN</td>\n",
       "      <td>NaN</td>\n",
       "      <td>NaN</td>\n",
       "      <td>NaN</td>\n",
       "    </tr>\n",
       "    <tr>\n",
       "      <th>9</th>\n",
       "      <td>1847-04-10</td>\n",
       "      <td>Margaret</td>\n",
       "      <td>Farrell</td>\n",
       "      <td>Margaret Farrell</td>\n",
       "      <td>30.0</td>\n",
       "      <td>f</td>\n",
       "      <td>recent emigrant</td>\n",
       "      <td>widow</td>\n",
       "      <td>NaN</td>\n",
       "      <td>NaN</td>\n",
       "      <td>NaN</td>\n",
       "      <td>NaN</td>\n",
       "    </tr>\n",
       "  </tbody>\n",
       "</table>\n",
       "</div>"
      ],
      "text/plain": [
       "      date_in first_name  last_name         full_name   age gender  \\\n",
       "0  1847-04-17       Mary  Gallagher    Mary Gallagher  28.0      f   \n",
       "1  1847-04-08       John  Sanin (?)    John Sanin (?)  19.0      m   \n",
       "2  1847-04-17    Anthony      Clark     Anthony Clark  60.0      m   \n",
       "3  1847-04-08   Lawrence     Feeney   Lawrence Feeney  32.0      m   \n",
       "4  1847-04-13      Henry      Joyce       Henry Joyce  21.0      m   \n",
       "5  1847-04-14    Bridget       Hart      Bridget Hart  20.0      f   \n",
       "6  1847-04-14       Mary      Green        Mary Green  40.0      f   \n",
       "7  1847-04-19     Daniel     Loftus     Daniel Loftus  27.0      m   \n",
       "8  1847-04-10      James        Day         James Day  35.0      m   \n",
       "9  1847-04-10   Margaret    Farrell  Margaret Farrell  30.0      f   \n",
       "\n",
       "           disease profession                    children   sent_to  \\\n",
       "0  recent emigrant    married         Child Alana 10 days  Hospital   \n",
       "1  recent emigrant    laborer              Catherine 2 mo       NaN   \n",
       "2  recent emigrant    laborer  Charles Riley afed 10 days  Hospital   \n",
       "3  recent emigrant    laborer                       Child       NaN   \n",
       "4  recent emigrant        NaN                  Child 1 mo       NaN   \n",
       "5  recent emigrant   spinster                       Child    Shanty   \n",
       "6  recent emigrant   spinster          And child 2 months    Shanty   \n",
       "7      destitution    laborer                         NaN  Hospital   \n",
       "8  recent emigrant    laborer                         NaN       NaN   \n",
       "9  recent emigrant      widow                         NaN       NaN   \n",
       "\n",
       "              sender1            sender2  \n",
       "0      superintendent        hd. gibbens  \n",
       "1  george w. anderson   edward witherell  \n",
       "2  george w. anderson   edward witherell  \n",
       "3  george w. anderson     james donnelly  \n",
       "4  george w. anderson   edward witherell  \n",
       "5  george w. anderson  benson s. hopkins  \n",
       "6  george w. anderson  benson s. hopkins  \n",
       "7  george w. anderson  peter c. johnston  \n",
       "8                 NaN                NaN  \n",
       "9                 NaN                NaN  "
      ]
     },
     "execution_count": 7,
     "metadata": {},
     "output_type": "execute_result"
    }
   ],
   "source": [
    "bellevue_df.head(10)"
   ]
  },
  {
   "cell_type": "markdown",
   "metadata": {},
   "source": [
    "### Question 1\n",
    "\n",
    "Play around with the code! What happens if you try to invoke `head` with no parameters?"
   ]
  },
  {
   "cell_type": "code",
   "execution_count": 8,
   "metadata": {},
   "outputs": [
    {
     "data": {
      "text/html": [
       "<div>\n",
       "<style scoped>\n",
       "    .dataframe tbody tr th:only-of-type {\n",
       "        vertical-align: middle;\n",
       "    }\n",
       "\n",
       "    .dataframe tbody tr th {\n",
       "        vertical-align: top;\n",
       "    }\n",
       "\n",
       "    .dataframe thead th {\n",
       "        text-align: right;\n",
       "    }\n",
       "</style>\n",
       "<table border=\"1\" class=\"dataframe\">\n",
       "  <thead>\n",
       "    <tr style=\"text-align: right;\">\n",
       "      <th></th>\n",
       "      <th>date_in</th>\n",
       "      <th>first_name</th>\n",
       "      <th>last_name</th>\n",
       "      <th>full_name</th>\n",
       "      <th>age</th>\n",
       "      <th>gender</th>\n",
       "      <th>disease</th>\n",
       "      <th>profession</th>\n",
       "      <th>children</th>\n",
       "      <th>sent_to</th>\n",
       "      <th>sender1</th>\n",
       "      <th>sender2</th>\n",
       "    </tr>\n",
       "  </thead>\n",
       "  <tbody>\n",
       "    <tr>\n",
       "      <th>0</th>\n",
       "      <td>1847-04-17</td>\n",
       "      <td>Mary</td>\n",
       "      <td>Gallagher</td>\n",
       "      <td>Mary Gallagher</td>\n",
       "      <td>28.0</td>\n",
       "      <td>f</td>\n",
       "      <td>recent emigrant</td>\n",
       "      <td>married</td>\n",
       "      <td>Child Alana 10 days</td>\n",
       "      <td>Hospital</td>\n",
       "      <td>superintendent</td>\n",
       "      <td>hd. gibbens</td>\n",
       "    </tr>\n",
       "    <tr>\n",
       "      <th>1</th>\n",
       "      <td>1847-04-08</td>\n",
       "      <td>John</td>\n",
       "      <td>Sanin (?)</td>\n",
       "      <td>John Sanin (?)</td>\n",
       "      <td>19.0</td>\n",
       "      <td>m</td>\n",
       "      <td>recent emigrant</td>\n",
       "      <td>laborer</td>\n",
       "      <td>Catherine 2 mo</td>\n",
       "      <td>NaN</td>\n",
       "      <td>george w. anderson</td>\n",
       "      <td>edward witherell</td>\n",
       "    </tr>\n",
       "    <tr>\n",
       "      <th>2</th>\n",
       "      <td>1847-04-17</td>\n",
       "      <td>Anthony</td>\n",
       "      <td>Clark</td>\n",
       "      <td>Anthony Clark</td>\n",
       "      <td>60.0</td>\n",
       "      <td>m</td>\n",
       "      <td>recent emigrant</td>\n",
       "      <td>laborer</td>\n",
       "      <td>Charles Riley afed 10 days</td>\n",
       "      <td>Hospital</td>\n",
       "      <td>george w. anderson</td>\n",
       "      <td>edward witherell</td>\n",
       "    </tr>\n",
       "    <tr>\n",
       "      <th>3</th>\n",
       "      <td>1847-04-08</td>\n",
       "      <td>Lawrence</td>\n",
       "      <td>Feeney</td>\n",
       "      <td>Lawrence Feeney</td>\n",
       "      <td>32.0</td>\n",
       "      <td>m</td>\n",
       "      <td>recent emigrant</td>\n",
       "      <td>laborer</td>\n",
       "      <td>Child</td>\n",
       "      <td>NaN</td>\n",
       "      <td>george w. anderson</td>\n",
       "      <td>james donnelly</td>\n",
       "    </tr>\n",
       "    <tr>\n",
       "      <th>4</th>\n",
       "      <td>1847-04-13</td>\n",
       "      <td>Henry</td>\n",
       "      <td>Joyce</td>\n",
       "      <td>Henry Joyce</td>\n",
       "      <td>21.0</td>\n",
       "      <td>m</td>\n",
       "      <td>recent emigrant</td>\n",
       "      <td>NaN</td>\n",
       "      <td>Child 1 mo</td>\n",
       "      <td>NaN</td>\n",
       "      <td>george w. anderson</td>\n",
       "      <td>edward witherell</td>\n",
       "    </tr>\n",
       "  </tbody>\n",
       "</table>\n",
       "</div>"
      ],
      "text/plain": [
       "      date_in first_name  last_name        full_name   age gender  \\\n",
       "0  1847-04-17       Mary  Gallagher   Mary Gallagher  28.0      f   \n",
       "1  1847-04-08       John  Sanin (?)   John Sanin (?)  19.0      m   \n",
       "2  1847-04-17    Anthony      Clark    Anthony Clark  60.0      m   \n",
       "3  1847-04-08   Lawrence     Feeney  Lawrence Feeney  32.0      m   \n",
       "4  1847-04-13      Henry      Joyce      Henry Joyce  21.0      m   \n",
       "\n",
       "           disease profession                    children   sent_to  \\\n",
       "0  recent emigrant    married         Child Alana 10 days  Hospital   \n",
       "1  recent emigrant    laborer              Catherine 2 mo       NaN   \n",
       "2  recent emigrant    laborer  Charles Riley afed 10 days  Hospital   \n",
       "3  recent emigrant    laborer                       Child       NaN   \n",
       "4  recent emigrant        NaN                  Child 1 mo       NaN   \n",
       "\n",
       "              sender1           sender2  \n",
       "0      superintendent       hd. gibbens  \n",
       "1  george w. anderson  edward witherell  \n",
       "2  george w. anderson  edward witherell  \n",
       "3  george w. anderson    james donnelly  \n",
       "4  george w. anderson  edward witherell  "
      ]
     },
     "execution_count": 8,
     "metadata": {},
     "output_type": "execute_result"
    }
   ],
   "source": [
    "# your code goes here\n",
    "bellevue_df.head()"
   ]
  },
  {
   "cell_type": "markdown",
   "metadata": {},
   "source": [
    "### Display Random Sample"
   ]
  },
  {
   "cell_type": "markdown",
   "metadata": {},
   "source": [
    "To look at a random sample of rows, we can use the `.sample()` method."
   ]
  },
  {
   "cell_type": "code",
   "execution_count": 9,
   "metadata": {},
   "outputs": [
    {
     "data": {
      "text/html": [
       "<div>\n",
       "<style scoped>\n",
       "    .dataframe tbody tr th:only-of-type {\n",
       "        vertical-align: middle;\n",
       "    }\n",
       "\n",
       "    .dataframe tbody tr th {\n",
       "        vertical-align: top;\n",
       "    }\n",
       "\n",
       "    .dataframe thead th {\n",
       "        text-align: right;\n",
       "    }\n",
       "</style>\n",
       "<table border=\"1\" class=\"dataframe\">\n",
       "  <thead>\n",
       "    <tr style=\"text-align: right;\">\n",
       "      <th></th>\n",
       "      <th>date_in</th>\n",
       "      <th>first_name</th>\n",
       "      <th>last_name</th>\n",
       "      <th>full_name</th>\n",
       "      <th>age</th>\n",
       "      <th>gender</th>\n",
       "      <th>disease</th>\n",
       "      <th>profession</th>\n",
       "      <th>children</th>\n",
       "      <th>sent_to</th>\n",
       "      <th>sender1</th>\n",
       "      <th>sender2</th>\n",
       "    </tr>\n",
       "  </thead>\n",
       "  <tbody>\n",
       "    <tr>\n",
       "      <th>1990</th>\n",
       "      <td>1847-05-10</td>\n",
       "      <td>John</td>\n",
       "      <td>Sweeney</td>\n",
       "      <td>John Sweeney</td>\n",
       "      <td>25.0</td>\n",
       "      <td>m</td>\n",
       "      <td>sickness</td>\n",
       "      <td>laborer</td>\n",
       "      <td>NaN</td>\n",
       "      <td>Hospital</td>\n",
       "      <td>george w. anderson</td>\n",
       "      <td>peter c. johnston</td>\n",
       "    </tr>\n",
       "    <tr>\n",
       "      <th>9358</th>\n",
       "      <td>1846-09-10</td>\n",
       "      <td>Margaret</td>\n",
       "      <td>McDivitt</td>\n",
       "      <td>Margaret McDivitt</td>\n",
       "      <td>81.0</td>\n",
       "      <td>f</td>\n",
       "      <td>NaN</td>\n",
       "      <td>married</td>\n",
       "      <td>NaN</td>\n",
       "      <td>NaN</td>\n",
       "      <td>superintendent</td>\n",
       "      <td>leonard l. johnson</td>\n",
       "    </tr>\n",
       "    <tr>\n",
       "      <th>2372</th>\n",
       "      <td>1847-06-01</td>\n",
       "      <td>Margaret</td>\n",
       "      <td>McGunhin</td>\n",
       "      <td>Margaret McGunhin</td>\n",
       "      <td>31.0</td>\n",
       "      <td>f</td>\n",
       "      <td>recent emigrant</td>\n",
       "      <td>married</td>\n",
       "      <td>NaN</td>\n",
       "      <td>Hospital</td>\n",
       "      <td>moses g. leonard</td>\n",
       "      <td>edward witherell</td>\n",
       "    </tr>\n",
       "    <tr>\n",
       "      <th>8135</th>\n",
       "      <td>1847-05-10</td>\n",
       "      <td>Mary</td>\n",
       "      <td>Larkin</td>\n",
       "      <td>Mary Larkin</td>\n",
       "      <td>23.0</td>\n",
       "      <td>f</td>\n",
       "      <td>sickness</td>\n",
       "      <td>married</td>\n",
       "      <td>NaN</td>\n",
       "      <td>Hospital</td>\n",
       "      <td>moses g. leonard</td>\n",
       "      <td>edward witherell</td>\n",
       "    </tr>\n",
       "    <tr>\n",
       "      <th>6203</th>\n",
       "      <td>1847-08-02</td>\n",
       "      <td>Mary</td>\n",
       "      <td>McGuire</td>\n",
       "      <td>Mary McGuire</td>\n",
       "      <td>53.0</td>\n",
       "      <td>f</td>\n",
       "      <td>sickness</td>\n",
       "      <td>widow</td>\n",
       "      <td>NaN</td>\n",
       "      <td>Hospital</td>\n",
       "      <td>william w. lyons</td>\n",
       "      <td>NaN</td>\n",
       "    </tr>\n",
       "    <tr>\n",
       "      <th>6926</th>\n",
       "      <td>1847-10-01</td>\n",
       "      <td>Mary Ann</td>\n",
       "      <td>Warden</td>\n",
       "      <td>Mary Ann Warden</td>\n",
       "      <td>26.0</td>\n",
       "      <td>f</td>\n",
       "      <td>sore</td>\n",
       "      <td>widow</td>\n",
       "      <td>NaN</td>\n",
       "      <td>Hospital</td>\n",
       "      <td>william w. lyons</td>\n",
       "      <td>NaN</td>\n",
       "    </tr>\n",
       "    <tr>\n",
       "      <th>2125</th>\n",
       "      <td>1847-05-17</td>\n",
       "      <td>Michael</td>\n",
       "      <td>McCarra</td>\n",
       "      <td>Michael McCarra</td>\n",
       "      <td>19.0</td>\n",
       "      <td>m</td>\n",
       "      <td>recent emigrant</td>\n",
       "      <td>laborer</td>\n",
       "      <td>NaN</td>\n",
       "      <td>Hospital</td>\n",
       "      <td>moses g. leonard</td>\n",
       "      <td>peter c. johnston</td>\n",
       "    </tr>\n",
       "    <tr>\n",
       "      <th>4071</th>\n",
       "      <td>1846-08-12</td>\n",
       "      <td>Jane</td>\n",
       "      <td>Bruce</td>\n",
       "      <td>Jane Bruce</td>\n",
       "      <td>20.0</td>\n",
       "      <td>f</td>\n",
       "      <td>NaN</td>\n",
       "      <td>married</td>\n",
       "      <td>NaN</td>\n",
       "      <td>NaN</td>\n",
       "      <td>george w. anderson</td>\n",
       "      <td>NaN</td>\n",
       "    </tr>\n",
       "    <tr>\n",
       "      <th>8096</th>\n",
       "      <td>1847-02-05</td>\n",
       "      <td>Michael</td>\n",
       "      <td>Nolan</td>\n",
       "      <td>Michael Nolan</td>\n",
       "      <td>32.0</td>\n",
       "      <td>m</td>\n",
       "      <td>destitution</td>\n",
       "      <td>NaN</td>\n",
       "      <td>NaN</td>\n",
       "      <td>Long Island Farms</td>\n",
       "      <td>moses g. leonard</td>\n",
       "      <td>commissioners of emigration</td>\n",
       "    </tr>\n",
       "    <tr>\n",
       "      <th>3885</th>\n",
       "      <td>1846-07-18</td>\n",
       "      <td>Bridget</td>\n",
       "      <td>Keenan</td>\n",
       "      <td>Bridget Keenan</td>\n",
       "      <td>29.0</td>\n",
       "      <td>f</td>\n",
       "      <td>NaN</td>\n",
       "      <td>spinster</td>\n",
       "      <td>NaN</td>\n",
       "      <td>NaN</td>\n",
       "      <td>george w. anderson</td>\n",
       "      <td>NaN</td>\n",
       "    </tr>\n",
       "  </tbody>\n",
       "</table>\n",
       "</div>"
      ],
      "text/plain": [
       "         date_in first_name last_name          full_name   age gender  \\\n",
       "1990  1847-05-10       John   Sweeney       John Sweeney  25.0      m   \n",
       "9358  1846-09-10   Margaret  McDivitt  Margaret McDivitt  81.0      f   \n",
       "2372  1847-06-01   Margaret  McGunhin  Margaret McGunhin  31.0      f   \n",
       "8135  1847-05-10       Mary    Larkin        Mary Larkin  23.0      f   \n",
       "6203  1847-08-02       Mary   McGuire       Mary McGuire  53.0      f   \n",
       "6926  1847-10-01   Mary Ann    Warden    Mary Ann Warden  26.0      f   \n",
       "2125  1847-05-17    Michael   McCarra    Michael McCarra  19.0      m   \n",
       "4071  1846-08-12       Jane     Bruce         Jane Bruce  20.0      f   \n",
       "8096  1847-02-05    Michael     Nolan      Michael Nolan  32.0      m   \n",
       "3885  1846-07-18    Bridget    Keenan     Bridget Keenan  29.0      f   \n",
       "\n",
       "              disease profession children            sent_to  \\\n",
       "1990         sickness    laborer      NaN           Hospital   \n",
       "9358              NaN    married      NaN                NaN   \n",
       "2372  recent emigrant    married      NaN           Hospital   \n",
       "8135         sickness    married      NaN           Hospital   \n",
       "6203         sickness      widow      NaN           Hospital   \n",
       "6926             sore      widow      NaN           Hospital   \n",
       "2125  recent emigrant    laborer      NaN           Hospital   \n",
       "4071              NaN    married      NaN                NaN   \n",
       "8096      destitution        NaN      NaN  Long Island Farms   \n",
       "3885              NaN   spinster      NaN                NaN   \n",
       "\n",
       "                 sender1                      sender2  \n",
       "1990  george w. anderson            peter c. johnston  \n",
       "9358      superintendent           leonard l. johnson  \n",
       "2372    moses g. leonard             edward witherell  \n",
       "8135    moses g. leonard             edward witherell  \n",
       "6203    william w. lyons                          NaN  \n",
       "6926    william w. lyons                          NaN  \n",
       "2125    moses g. leonard            peter c. johnston  \n",
       "4071  george w. anderson                          NaN  \n",
       "8096    moses g. leonard  commissioners of emigration  \n",
       "3885  george w. anderson                          NaN  "
      ]
     },
     "execution_count": 9,
     "metadata": {},
     "output_type": "execute_result"
    }
   ],
   "source": [
    "bellevue_df.sample(10)"
   ]
  },
  {
   "cell_type": "markdown",
   "metadata": {},
   "source": [
    "## Get Info"
   ]
  },
  {
   "cell_type": "markdown",
   "metadata": {},
   "source": [
    "To get important info about all the columns in the DataFrame, we can use `.info()`."
   ]
  },
  {
   "cell_type": "code",
   "execution_count": 10,
   "metadata": {},
   "outputs": [
    {
     "name": "stdout",
     "output_type": "stream",
     "text": [
      "<class 'pandas.core.frame.DataFrame'>\n",
      "RangeIndex: 9598 entries, 0 to 9597\n",
      "Data columns (total 12 columns):\n",
      " #   Column      Non-Null Count  Dtype  \n",
      "---  ------      --------------  -----  \n",
      " 0   date_in     9598 non-null   object \n",
      " 1   first_name  9594 non-null   object \n",
      " 2   last_name   9598 non-null   object \n",
      " 3   full_name   9598 non-null   object \n",
      " 4   age         9548 non-null   float64\n",
      " 5   gender      9598 non-null   object \n",
      " 6   disease     6509 non-null   object \n",
      " 7   profession  8579 non-null   object \n",
      " 8   children    37 non-null     object \n",
      " 9   sent_to     5666 non-null   object \n",
      " 10  sender1     9521 non-null   object \n",
      " 11  sender2     5212 non-null   object \n",
      "dtypes: float64(1), object(11)\n",
      "memory usage: 899.9+ KB\n"
     ]
    }
   ],
   "source": [
    "bellevue_df.info()"
   ]
  },
  {
   "cell_type": "markdown",
   "metadata": {},
   "source": [
    "This report will tell us how many non-null, or non-blank, values are in each column, as well as what *type* of data is in each column.\n",
    "\n",
    "\n",
    "\n",
    "| **Pandas Data Type** |  **Explanation**                                                                                   |\n",
    "|:-------------:|:---------------------------------------------------------------------------------------------------:|\n",
    "| `object`         | string                                                                               |\n",
    "| `float64`         | float                                               |\n",
    "| `int64`       | integer                                                        |\n",
    "| `datetime64`       |  date time              "
   ]
  },
  {
   "cell_type": "markdown",
   "metadata": {},
   "source": [
    "## Calculate Summary Statistics"
   ]
  },
  {
   "cell_type": "markdown",
   "metadata": {},
   "source": [
    "To calculate summary statistics for every column in our DataFrame, we can use the `.describe()` method."
   ]
  },
  {
   "cell_type": "code",
   "execution_count": 11,
   "metadata": {},
   "outputs": [
    {
     "data": {
      "text/html": [
       "<div>\n",
       "<style scoped>\n",
       "    .dataframe tbody tr th:only-of-type {\n",
       "        vertical-align: middle;\n",
       "    }\n",
       "\n",
       "    .dataframe tbody tr th {\n",
       "        vertical-align: top;\n",
       "    }\n",
       "\n",
       "    .dataframe thead th {\n",
       "        text-align: right;\n",
       "    }\n",
       "</style>\n",
       "<table border=\"1\" class=\"dataframe\">\n",
       "  <thead>\n",
       "    <tr style=\"text-align: right;\">\n",
       "      <th></th>\n",
       "      <th>age</th>\n",
       "    </tr>\n",
       "  </thead>\n",
       "  <tbody>\n",
       "    <tr>\n",
       "      <th>count</th>\n",
       "      <td>9548.000000</td>\n",
       "    </tr>\n",
       "    <tr>\n",
       "      <th>mean</th>\n",
       "      <td>30.337039</td>\n",
       "    </tr>\n",
       "    <tr>\n",
       "      <th>std</th>\n",
       "      <td>14.179527</td>\n",
       "    </tr>\n",
       "    <tr>\n",
       "      <th>min</th>\n",
       "      <td>0.080000</td>\n",
       "    </tr>\n",
       "    <tr>\n",
       "      <th>25%</th>\n",
       "      <td>21.000000</td>\n",
       "    </tr>\n",
       "    <tr>\n",
       "      <th>50%</th>\n",
       "      <td>28.000000</td>\n",
       "    </tr>\n",
       "    <tr>\n",
       "      <th>75%</th>\n",
       "      <td>39.000000</td>\n",
       "    </tr>\n",
       "    <tr>\n",
       "      <th>max</th>\n",
       "      <td>97.000000</td>\n",
       "    </tr>\n",
       "  </tbody>\n",
       "</table>\n",
       "</div>"
      ],
      "text/plain": [
       "               age\n",
       "count  9548.000000\n",
       "mean     30.337039\n",
       "std      14.179527\n",
       "min       0.080000\n",
       "25%      21.000000\n",
       "50%      28.000000\n",
       "75%      39.000000\n",
       "max      97.000000"
      ]
     },
     "execution_count": 11,
     "metadata": {},
     "output_type": "execute_result"
    }
   ],
   "source": [
    "bellevue_df.describe()"
   ]
  },
  {
   "cell_type": "markdown",
   "metadata": {},
   "source": [
    "To round values to any number of decimal places, we can use the `.round()` function."
   ]
  },
  {
   "cell_type": "code",
   "execution_count": 12,
   "metadata": {},
   "outputs": [
    {
     "data": {
      "text/html": [
       "<div>\n",
       "<style scoped>\n",
       "    .dataframe tbody tr th:only-of-type {\n",
       "        vertical-align: middle;\n",
       "    }\n",
       "\n",
       "    .dataframe tbody tr th {\n",
       "        vertical-align: top;\n",
       "    }\n",
       "\n",
       "    .dataframe thead th {\n",
       "        text-align: right;\n",
       "    }\n",
       "</style>\n",
       "<table border=\"1\" class=\"dataframe\">\n",
       "  <thead>\n",
       "    <tr style=\"text-align: right;\">\n",
       "      <th></th>\n",
       "      <th>age</th>\n",
       "    </tr>\n",
       "  </thead>\n",
       "  <tbody>\n",
       "    <tr>\n",
       "      <th>count</th>\n",
       "      <td>9548.00</td>\n",
       "    </tr>\n",
       "    <tr>\n",
       "      <th>mean</th>\n",
       "      <td>30.34</td>\n",
       "    </tr>\n",
       "    <tr>\n",
       "      <th>std</th>\n",
       "      <td>14.18</td>\n",
       "    </tr>\n",
       "    <tr>\n",
       "      <th>min</th>\n",
       "      <td>0.08</td>\n",
       "    </tr>\n",
       "    <tr>\n",
       "      <th>25%</th>\n",
       "      <td>21.00</td>\n",
       "    </tr>\n",
       "    <tr>\n",
       "      <th>50%</th>\n",
       "      <td>28.00</td>\n",
       "    </tr>\n",
       "    <tr>\n",
       "      <th>75%</th>\n",
       "      <td>39.00</td>\n",
       "    </tr>\n",
       "    <tr>\n",
       "      <th>max</th>\n",
       "      <td>97.00</td>\n",
       "    </tr>\n",
       "  </tbody>\n",
       "</table>\n",
       "</div>"
      ],
      "text/plain": [
       "           age\n",
       "count  9548.00\n",
       "mean     30.34\n",
       "std      14.18\n",
       "min       0.08\n",
       "25%      21.00\n",
       "50%      28.00\n",
       "75%      39.00\n",
       "max      97.00"
      ]
     },
     "execution_count": 12,
     "metadata": {},
     "output_type": "execute_result"
    }
   ],
   "source": [
    "bellevue_df.describe().round(2)"
   ]
  },
  {
   "cell_type": "markdown",
   "metadata": {},
   "source": [
    "By default, `.describe()` will only compute columns with numerical data. To include all columns, we can use `include='all`."
   ]
  },
  {
   "cell_type": "code",
   "execution_count": 13,
   "metadata": {},
   "outputs": [
    {
     "data": {
      "text/html": [
       "<div>\n",
       "<style scoped>\n",
       "    .dataframe tbody tr th:only-of-type {\n",
       "        vertical-align: middle;\n",
       "    }\n",
       "\n",
       "    .dataframe tbody tr th {\n",
       "        vertical-align: top;\n",
       "    }\n",
       "\n",
       "    .dataframe thead th {\n",
       "        text-align: right;\n",
       "    }\n",
       "</style>\n",
       "<table border=\"1\" class=\"dataframe\">\n",
       "  <thead>\n",
       "    <tr style=\"text-align: right;\">\n",
       "      <th></th>\n",
       "      <th>date_in</th>\n",
       "      <th>first_name</th>\n",
       "      <th>last_name</th>\n",
       "      <th>full_name</th>\n",
       "      <th>age</th>\n",
       "      <th>gender</th>\n",
       "      <th>disease</th>\n",
       "      <th>profession</th>\n",
       "      <th>children</th>\n",
       "      <th>sent_to</th>\n",
       "      <th>sender1</th>\n",
       "      <th>sender2</th>\n",
       "    </tr>\n",
       "  </thead>\n",
       "  <tbody>\n",
       "    <tr>\n",
       "      <th>count</th>\n",
       "      <td>9598</td>\n",
       "      <td>9594</td>\n",
       "      <td>9598</td>\n",
       "      <td>9598</td>\n",
       "      <td>9548.000000</td>\n",
       "      <td>9598</td>\n",
       "      <td>6509</td>\n",
       "      <td>8579</td>\n",
       "      <td>37</td>\n",
       "      <td>5666</td>\n",
       "      <td>9521</td>\n",
       "      <td>5212</td>\n",
       "    </tr>\n",
       "    <tr>\n",
       "      <th>unique</th>\n",
       "      <td>653</td>\n",
       "      <td>523</td>\n",
       "      <td>3159</td>\n",
       "      <td>7308</td>\n",
       "      <td>NaN</td>\n",
       "      <td>5</td>\n",
       "      <td>75</td>\n",
       "      <td>172</td>\n",
       "      <td>36</td>\n",
       "      <td>77</td>\n",
       "      <td>59</td>\n",
       "      <td>80</td>\n",
       "    </tr>\n",
       "    <tr>\n",
       "      <th>top</th>\n",
       "      <td>1847-05-24</td>\n",
       "      <td>Mary</td>\n",
       "      <td>Kelly</td>\n",
       "      <td>Mary Smith</td>\n",
       "      <td>NaN</td>\n",
       "      <td>m</td>\n",
       "      <td>sickness</td>\n",
       "      <td>laborer</td>\n",
       "      <td>Child</td>\n",
       "      <td>Hospital</td>\n",
       "      <td>george w. anderson</td>\n",
       "      <td>peter c. johnston</td>\n",
       "    </tr>\n",
       "    <tr>\n",
       "      <th>freq</th>\n",
       "      <td>113</td>\n",
       "      <td>979</td>\n",
       "      <td>137</td>\n",
       "      <td>21</td>\n",
       "      <td>NaN</td>\n",
       "      <td>4967</td>\n",
       "      <td>2710</td>\n",
       "      <td>3116</td>\n",
       "      <td>2</td>\n",
       "      <td>3882</td>\n",
       "      <td>3469</td>\n",
       "      <td>1666</td>\n",
       "    </tr>\n",
       "    <tr>\n",
       "      <th>mean</th>\n",
       "      <td>NaN</td>\n",
       "      <td>NaN</td>\n",
       "      <td>NaN</td>\n",
       "      <td>NaN</td>\n",
       "      <td>30.337039</td>\n",
       "      <td>NaN</td>\n",
       "      <td>NaN</td>\n",
       "      <td>NaN</td>\n",
       "      <td>NaN</td>\n",
       "      <td>NaN</td>\n",
       "      <td>NaN</td>\n",
       "      <td>NaN</td>\n",
       "    </tr>\n",
       "    <tr>\n",
       "      <th>std</th>\n",
       "      <td>NaN</td>\n",
       "      <td>NaN</td>\n",
       "      <td>NaN</td>\n",
       "      <td>NaN</td>\n",
       "      <td>14.179527</td>\n",
       "      <td>NaN</td>\n",
       "      <td>NaN</td>\n",
       "      <td>NaN</td>\n",
       "      <td>NaN</td>\n",
       "      <td>NaN</td>\n",
       "      <td>NaN</td>\n",
       "      <td>NaN</td>\n",
       "    </tr>\n",
       "    <tr>\n",
       "      <th>min</th>\n",
       "      <td>NaN</td>\n",
       "      <td>NaN</td>\n",
       "      <td>NaN</td>\n",
       "      <td>NaN</td>\n",
       "      <td>0.080000</td>\n",
       "      <td>NaN</td>\n",
       "      <td>NaN</td>\n",
       "      <td>NaN</td>\n",
       "      <td>NaN</td>\n",
       "      <td>NaN</td>\n",
       "      <td>NaN</td>\n",
       "      <td>NaN</td>\n",
       "    </tr>\n",
       "    <tr>\n",
       "      <th>25%</th>\n",
       "      <td>NaN</td>\n",
       "      <td>NaN</td>\n",
       "      <td>NaN</td>\n",
       "      <td>NaN</td>\n",
       "      <td>21.000000</td>\n",
       "      <td>NaN</td>\n",
       "      <td>NaN</td>\n",
       "      <td>NaN</td>\n",
       "      <td>NaN</td>\n",
       "      <td>NaN</td>\n",
       "      <td>NaN</td>\n",
       "      <td>NaN</td>\n",
       "    </tr>\n",
       "    <tr>\n",
       "      <th>50%</th>\n",
       "      <td>NaN</td>\n",
       "      <td>NaN</td>\n",
       "      <td>NaN</td>\n",
       "      <td>NaN</td>\n",
       "      <td>28.000000</td>\n",
       "      <td>NaN</td>\n",
       "      <td>NaN</td>\n",
       "      <td>NaN</td>\n",
       "      <td>NaN</td>\n",
       "      <td>NaN</td>\n",
       "      <td>NaN</td>\n",
       "      <td>NaN</td>\n",
       "    </tr>\n",
       "    <tr>\n",
       "      <th>75%</th>\n",
       "      <td>NaN</td>\n",
       "      <td>NaN</td>\n",
       "      <td>NaN</td>\n",
       "      <td>NaN</td>\n",
       "      <td>39.000000</td>\n",
       "      <td>NaN</td>\n",
       "      <td>NaN</td>\n",
       "      <td>NaN</td>\n",
       "      <td>NaN</td>\n",
       "      <td>NaN</td>\n",
       "      <td>NaN</td>\n",
       "      <td>NaN</td>\n",
       "    </tr>\n",
       "    <tr>\n",
       "      <th>max</th>\n",
       "      <td>NaN</td>\n",
       "      <td>NaN</td>\n",
       "      <td>NaN</td>\n",
       "      <td>NaN</td>\n",
       "      <td>97.000000</td>\n",
       "      <td>NaN</td>\n",
       "      <td>NaN</td>\n",
       "      <td>NaN</td>\n",
       "      <td>NaN</td>\n",
       "      <td>NaN</td>\n",
       "      <td>NaN</td>\n",
       "      <td>NaN</td>\n",
       "    </tr>\n",
       "  </tbody>\n",
       "</table>\n",
       "</div>"
      ],
      "text/plain": [
       "           date_in first_name last_name   full_name          age gender  \\\n",
       "count         9598       9594      9598        9598  9548.000000   9598   \n",
       "unique         653        523      3159        7308          NaN      5   \n",
       "top     1847-05-24       Mary     Kelly  Mary Smith          NaN      m   \n",
       "freq           113        979       137          21          NaN   4967   \n",
       "mean           NaN        NaN       NaN         NaN    30.337039    NaN   \n",
       "std            NaN        NaN       NaN         NaN    14.179527    NaN   \n",
       "min            NaN        NaN       NaN         NaN     0.080000    NaN   \n",
       "25%            NaN        NaN       NaN         NaN    21.000000    NaN   \n",
       "50%            NaN        NaN       NaN         NaN    28.000000    NaN   \n",
       "75%            NaN        NaN       NaN         NaN    39.000000    NaN   \n",
       "max            NaN        NaN       NaN         NaN    97.000000    NaN   \n",
       "\n",
       "         disease profession children   sent_to             sender1  \\\n",
       "count       6509       8579       37      5666                9521   \n",
       "unique        75        172       36        77                  59   \n",
       "top     sickness    laborer    Child  Hospital  george w. anderson   \n",
       "freq        2710       3116        2      3882                3469   \n",
       "mean         NaN        NaN      NaN       NaN                 NaN   \n",
       "std          NaN        NaN      NaN       NaN                 NaN   \n",
       "min          NaN        NaN      NaN       NaN                 NaN   \n",
       "25%          NaN        NaN      NaN       NaN                 NaN   \n",
       "50%          NaN        NaN      NaN       NaN                 NaN   \n",
       "75%          NaN        NaN      NaN       NaN                 NaN   \n",
       "max          NaN        NaN      NaN       NaN                 NaN   \n",
       "\n",
       "                  sender2  \n",
       "count                5212  \n",
       "unique                 80  \n",
       "top     peter c. johnston  \n",
       "freq                 1666  \n",
       "mean                  NaN  \n",
       "std                   NaN  \n",
       "min                   NaN  \n",
       "25%                   NaN  \n",
       "50%                   NaN  \n",
       "75%                   NaN  \n",
       "max                   NaN  "
      ]
     },
     "execution_count": 13,
     "metadata": {},
     "output_type": "execute_result"
    }
   ],
   "source": [
    "bellevue_df.describe(include='all')"
   ]
  },
  {
   "cell_type": "markdown",
   "metadata": {},
   "source": [
    "Here are some insights that can be gleaned from these summary statistics:\n",
    "- We cannot compute numerical statistics for columns that are not numeric. `NaN` indicates \"not a number\"\n",
    "- For the column **first_name**, the most frequently occurring first name (**top**) is Mary, which appears 979 times (**freq**)\n",
    "- For the column **last_name**, the most frequently occurring last name (**top**) is Kelly, which appears 137 times (**freq**)\n",
    "- For the column **age**, average age in the dataset (**mean**) is 30, the youngest (**min**) is .08, and the oldest (**max**) is 97\n",
    "- For the columns **disease** and **profession**, there are 75 unique (**unique**) diseases and 172 unique (**unique**) professions\n",
    "- For the column **children**, there are 37 rows that include information about children (**count**) (i.e., rows that do not have blank values)\n",
    "\n"
   ]
  },
  {
   "cell_type": "markdown",
   "metadata": {},
   "source": [
    "## Select Columns"
   ]
  },
  {
   "cell_type": "markdown",
   "metadata": {},
   "source": [
    "To select a column from the DataFrame, we will type the name of the DataFrame followed by square brackets and a column name in quotations marks."
   ]
  },
  {
   "cell_type": "code",
   "execution_count": 14,
   "metadata": {},
   "outputs": [
    {
     "data": {
      "text/plain": [
       "0       recent emigrant\n",
       "1       recent emigrant\n",
       "2       recent emigrant\n",
       "3       recent emigrant\n",
       "4       recent emigrant\n",
       "             ...       \n",
       "9593                NaN\n",
       "9594                NaN\n",
       "9595               lame\n",
       "9596                NaN\n",
       "9597                NaN\n",
       "Name: disease, Length: 9598, dtype: object"
      ]
     },
     "execution_count": 14,
     "metadata": {},
     "output_type": "execute_result"
    }
   ],
   "source": [
    "bellevue_df['disease']"
   ]
  },
  {
   "cell_type": "markdown",
   "metadata": {},
   "source": [
    "Technically, a single column in a DataFrame is a [*Series* object](https://pandas.pydata.org/pandas-docs/stable/user_guide/dsintro.html#dsintro)."
   ]
  },
  {
   "cell_type": "code",
   "execution_count": 15,
   "metadata": {},
   "outputs": [
    {
     "data": {
      "text/plain": [
       "pandas.core.series.Series"
      ]
     },
     "execution_count": 15,
     "metadata": {},
     "output_type": "execute_result"
    }
   ],
   "source": [
    "type(bellevue_df['disease'])"
   ]
  },
  {
   "cell_type": "markdown",
   "metadata": {},
   "source": [
    "A Series object displays differently than a DataFrame object. To select a column as a DataFrame and not as a Series object, we will use two square brackets."
   ]
  },
  {
   "cell_type": "code",
   "execution_count": 16,
   "metadata": {},
   "outputs": [
    {
     "data": {
      "text/html": [
       "<div>\n",
       "<style scoped>\n",
       "    .dataframe tbody tr th:only-of-type {\n",
       "        vertical-align: middle;\n",
       "    }\n",
       "\n",
       "    .dataframe tbody tr th {\n",
       "        vertical-align: top;\n",
       "    }\n",
       "\n",
       "    .dataframe thead th {\n",
       "        text-align: right;\n",
       "    }\n",
       "</style>\n",
       "<table border=\"1\" class=\"dataframe\">\n",
       "  <thead>\n",
       "    <tr style=\"text-align: right;\">\n",
       "      <th></th>\n",
       "      <th>disease</th>\n",
       "    </tr>\n",
       "  </thead>\n",
       "  <tbody>\n",
       "    <tr>\n",
       "      <th>0</th>\n",
       "      <td>recent emigrant</td>\n",
       "    </tr>\n",
       "    <tr>\n",
       "      <th>1</th>\n",
       "      <td>recent emigrant</td>\n",
       "    </tr>\n",
       "    <tr>\n",
       "      <th>2</th>\n",
       "      <td>recent emigrant</td>\n",
       "    </tr>\n",
       "    <tr>\n",
       "      <th>3</th>\n",
       "      <td>recent emigrant</td>\n",
       "    </tr>\n",
       "    <tr>\n",
       "      <th>4</th>\n",
       "      <td>recent emigrant</td>\n",
       "    </tr>\n",
       "    <tr>\n",
       "      <th>...</th>\n",
       "      <td>...</td>\n",
       "    </tr>\n",
       "    <tr>\n",
       "      <th>9593</th>\n",
       "      <td>NaN</td>\n",
       "    </tr>\n",
       "    <tr>\n",
       "      <th>9594</th>\n",
       "      <td>NaN</td>\n",
       "    </tr>\n",
       "    <tr>\n",
       "      <th>9595</th>\n",
       "      <td>lame</td>\n",
       "    </tr>\n",
       "    <tr>\n",
       "      <th>9596</th>\n",
       "      <td>NaN</td>\n",
       "    </tr>\n",
       "    <tr>\n",
       "      <th>9597</th>\n",
       "      <td>NaN</td>\n",
       "    </tr>\n",
       "  </tbody>\n",
       "</table>\n",
       "<p>9598 rows × 1 columns</p>\n",
       "</div>"
      ],
      "text/plain": [
       "              disease\n",
       "0     recent emigrant\n",
       "1     recent emigrant\n",
       "2     recent emigrant\n",
       "3     recent emigrant\n",
       "4     recent emigrant\n",
       "...               ...\n",
       "9593              NaN\n",
       "9594              NaN\n",
       "9595             lame\n",
       "9596              NaN\n",
       "9597              NaN\n",
       "\n",
       "[9598 rows x 1 columns]"
      ]
     },
     "execution_count": 16,
     "metadata": {},
     "output_type": "execute_result"
    }
   ],
   "source": [
    "bellevue_df[['disease']]"
   ]
  },
  {
   "cell_type": "code",
   "execution_count": 17,
   "metadata": {},
   "outputs": [
    {
     "data": {
      "text/plain": [
       "pandas.core.frame.DataFrame"
      ]
     },
     "execution_count": 17,
     "metadata": {},
     "output_type": "execute_result"
    }
   ],
   "source": [
    "type(bellevue_df[['disease']])"
   ]
  },
  {
   "cell_type": "markdown",
   "metadata": {},
   "source": [
    "By using two square brackets, we can also select multiple columns at the same time. This allows us to make a smaller DataFrame from a big one by only selecting the columns that we need. This is useful when a dataset contains a lot of data that we don't need."
   ]
  },
  {
   "cell_type": "code",
   "execution_count": 18,
   "metadata": {},
   "outputs": [
    {
     "data": {
      "text/html": [
       "<div>\n",
       "<style scoped>\n",
       "    .dataframe tbody tr th:only-of-type {\n",
       "        vertical-align: middle;\n",
       "    }\n",
       "\n",
       "    .dataframe tbody tr th {\n",
       "        vertical-align: top;\n",
       "    }\n",
       "\n",
       "    .dataframe thead th {\n",
       "        text-align: right;\n",
       "    }\n",
       "</style>\n",
       "<table border=\"1\" class=\"dataframe\">\n",
       "  <thead>\n",
       "    <tr style=\"text-align: right;\">\n",
       "      <th></th>\n",
       "      <th>first_name</th>\n",
       "      <th>last_name</th>\n",
       "      <th>disease</th>\n",
       "    </tr>\n",
       "  </thead>\n",
       "  <tbody>\n",
       "    <tr>\n",
       "      <th>0</th>\n",
       "      <td>Mary</td>\n",
       "      <td>Gallagher</td>\n",
       "      <td>recent emigrant</td>\n",
       "    </tr>\n",
       "    <tr>\n",
       "      <th>1</th>\n",
       "      <td>John</td>\n",
       "      <td>Sanin (?)</td>\n",
       "      <td>recent emigrant</td>\n",
       "    </tr>\n",
       "    <tr>\n",
       "      <th>2</th>\n",
       "      <td>Anthony</td>\n",
       "      <td>Clark</td>\n",
       "      <td>recent emigrant</td>\n",
       "    </tr>\n",
       "    <tr>\n",
       "      <th>3</th>\n",
       "      <td>Lawrence</td>\n",
       "      <td>Feeney</td>\n",
       "      <td>recent emigrant</td>\n",
       "    </tr>\n",
       "    <tr>\n",
       "      <th>4</th>\n",
       "      <td>Henry</td>\n",
       "      <td>Joyce</td>\n",
       "      <td>recent emigrant</td>\n",
       "    </tr>\n",
       "    <tr>\n",
       "      <th>...</th>\n",
       "      <td>...</td>\n",
       "      <td>...</td>\n",
       "      <td>...</td>\n",
       "    </tr>\n",
       "    <tr>\n",
       "      <th>9593</th>\n",
       "      <td>Joseph</td>\n",
       "      <td>Aton</td>\n",
       "      <td>NaN</td>\n",
       "    </tr>\n",
       "    <tr>\n",
       "      <th>9594</th>\n",
       "      <td>Mary</td>\n",
       "      <td>Smith</td>\n",
       "      <td>NaN</td>\n",
       "    </tr>\n",
       "    <tr>\n",
       "      <th>9595</th>\n",
       "      <td>Francis</td>\n",
       "      <td>Riley</td>\n",
       "      <td>lame</td>\n",
       "    </tr>\n",
       "    <tr>\n",
       "      <th>9596</th>\n",
       "      <td>Martin</td>\n",
       "      <td>Dunn</td>\n",
       "      <td>NaN</td>\n",
       "    </tr>\n",
       "    <tr>\n",
       "      <th>9597</th>\n",
       "      <td>Elizabeth</td>\n",
       "      <td>Post</td>\n",
       "      <td>NaN</td>\n",
       "    </tr>\n",
       "  </tbody>\n",
       "</table>\n",
       "<p>9598 rows × 3 columns</p>\n",
       "</div>"
      ],
      "text/plain": [
       "     first_name  last_name          disease\n",
       "0          Mary  Gallagher  recent emigrant\n",
       "1          John  Sanin (?)  recent emigrant\n",
       "2       Anthony      Clark  recent emigrant\n",
       "3      Lawrence     Feeney  recent emigrant\n",
       "4         Henry      Joyce  recent emigrant\n",
       "...         ...        ...              ...\n",
       "9593     Joseph       Aton              NaN\n",
       "9594       Mary      Smith              NaN\n",
       "9595    Francis      Riley             lame\n",
       "9596     Martin       Dunn              NaN\n",
       "9597  Elizabeth       Post              NaN\n",
       "\n",
       "[9598 rows x 3 columns]"
      ]
     },
     "execution_count": 18,
     "metadata": {},
     "output_type": "execute_result"
    }
   ],
   "source": [
    "bellevue_df[['first_name', 'last_name', 'disease']]"
   ]
  },
  {
   "cell_type": "markdown",
   "metadata": {},
   "source": [
    "``` {warning}\n",
    "Heads up! The code below will cause an error. This will cause all the cell clock below to not run until you specify that they should.\n",
    "```"
   ]
  },
  {
   "cell_type": "markdown",
   "metadata": {},
   "source": [
    "See what happens if we try to select multiple columns as a Series..."
   ]
  },
  {
   "cell_type": "code",
   "execution_count": 19,
   "metadata": {
    "tags": [
     "hide-output"
    ]
   },
   "outputs": [
    {
     "ename": "KeyError",
     "evalue": "('first_name', 'last_name', 'disease')",
     "output_type": "error",
     "traceback": [
      "\u001b[0;31m---------------------------------------------------------------------------\u001b[0m",
      "\u001b[0;31mKeyError\u001b[0m                                  Traceback (most recent call last)",
      "File \u001b[0;32m~/Projects/SF2-DataStructures/.venv/lib/python3.13/site-packages/pandas/core/indexes/base.py:3805\u001b[0m, in \u001b[0;36mIndex.get_loc\u001b[0;34m(self, key)\u001b[0m\n\u001b[1;32m   3804\u001b[0m \u001b[38;5;28;01mtry\u001b[39;00m:\n\u001b[0;32m-> 3805\u001b[0m     \u001b[38;5;28;01mreturn\u001b[39;00m \u001b[38;5;28;43mself\u001b[39;49m\u001b[38;5;241;43m.\u001b[39;49m\u001b[43m_engine\u001b[49m\u001b[38;5;241;43m.\u001b[39;49m\u001b[43mget_loc\u001b[49m\u001b[43m(\u001b[49m\u001b[43mcasted_key\u001b[49m\u001b[43m)\u001b[49m\n\u001b[1;32m   3806\u001b[0m \u001b[38;5;28;01mexcept\u001b[39;00m \u001b[38;5;167;01mKeyError\u001b[39;00m \u001b[38;5;28;01mas\u001b[39;00m err:\n",
      "File \u001b[0;32mindex.pyx:167\u001b[0m, in \u001b[0;36mpandas._libs.index.IndexEngine.get_loc\u001b[0;34m()\u001b[0m\n",
      "File \u001b[0;32mindex.pyx:196\u001b[0m, in \u001b[0;36mpandas._libs.index.IndexEngine.get_loc\u001b[0;34m()\u001b[0m\n",
      "File \u001b[0;32mpandas/_libs/hashtable_class_helper.pxi:7081\u001b[0m, in \u001b[0;36mpandas._libs.hashtable.PyObjectHashTable.get_item\u001b[0;34m()\u001b[0m\n",
      "File \u001b[0;32mpandas/_libs/hashtable_class_helper.pxi:7089\u001b[0m, in \u001b[0;36mpandas._libs.hashtable.PyObjectHashTable.get_item\u001b[0;34m()\u001b[0m\n",
      "\u001b[0;31mKeyError\u001b[0m: ('first_name', 'last_name', 'disease')",
      "\nThe above exception was the direct cause of the following exception:\n",
      "\u001b[0;31mKeyError\u001b[0m                                  Traceback (most recent call last)",
      "Cell \u001b[0;32mIn[19], line 1\u001b[0m\n\u001b[0;32m----> 1\u001b[0m \u001b[43mbellevue_df\u001b[49m\u001b[43m[\u001b[49m\u001b[38;5;124;43m'\u001b[39;49m\u001b[38;5;124;43mfirst_name\u001b[39;49m\u001b[38;5;124;43m'\u001b[39;49m\u001b[43m,\u001b[49m\u001b[43m \u001b[49m\u001b[38;5;124;43m'\u001b[39;49m\u001b[38;5;124;43mlast_name\u001b[39;49m\u001b[38;5;124;43m'\u001b[39;49m\u001b[43m,\u001b[49m\u001b[43m \u001b[49m\u001b[38;5;124;43m'\u001b[39;49m\u001b[38;5;124;43mdisease\u001b[39;49m\u001b[38;5;124;43m'\u001b[39;49m\u001b[43m]\u001b[49m\n",
      "File \u001b[0;32m~/Projects/SF2-DataStructures/.venv/lib/python3.13/site-packages/pandas/core/frame.py:4102\u001b[0m, in \u001b[0;36mDataFrame.__getitem__\u001b[0;34m(self, key)\u001b[0m\n\u001b[1;32m   4100\u001b[0m \u001b[38;5;28;01mif\u001b[39;00m \u001b[38;5;28mself\u001b[39m\u001b[38;5;241m.\u001b[39mcolumns\u001b[38;5;241m.\u001b[39mnlevels \u001b[38;5;241m>\u001b[39m \u001b[38;5;241m1\u001b[39m:\n\u001b[1;32m   4101\u001b[0m     \u001b[38;5;28;01mreturn\u001b[39;00m \u001b[38;5;28mself\u001b[39m\u001b[38;5;241m.\u001b[39m_getitem_multilevel(key)\n\u001b[0;32m-> 4102\u001b[0m indexer \u001b[38;5;241m=\u001b[39m \u001b[38;5;28;43mself\u001b[39;49m\u001b[38;5;241;43m.\u001b[39;49m\u001b[43mcolumns\u001b[49m\u001b[38;5;241;43m.\u001b[39;49m\u001b[43mget_loc\u001b[49m\u001b[43m(\u001b[49m\u001b[43mkey\u001b[49m\u001b[43m)\u001b[49m\n\u001b[1;32m   4103\u001b[0m \u001b[38;5;28;01mif\u001b[39;00m is_integer(indexer):\n\u001b[1;32m   4104\u001b[0m     indexer \u001b[38;5;241m=\u001b[39m [indexer]\n",
      "File \u001b[0;32m~/Projects/SF2-DataStructures/.venv/lib/python3.13/site-packages/pandas/core/indexes/base.py:3812\u001b[0m, in \u001b[0;36mIndex.get_loc\u001b[0;34m(self, key)\u001b[0m\n\u001b[1;32m   3807\u001b[0m     \u001b[38;5;28;01mif\u001b[39;00m \u001b[38;5;28misinstance\u001b[39m(casted_key, \u001b[38;5;28mslice\u001b[39m) \u001b[38;5;129;01mor\u001b[39;00m (\n\u001b[1;32m   3808\u001b[0m         \u001b[38;5;28misinstance\u001b[39m(casted_key, abc\u001b[38;5;241m.\u001b[39mIterable)\n\u001b[1;32m   3809\u001b[0m         \u001b[38;5;129;01mand\u001b[39;00m \u001b[38;5;28many\u001b[39m(\u001b[38;5;28misinstance\u001b[39m(x, \u001b[38;5;28mslice\u001b[39m) \u001b[38;5;28;01mfor\u001b[39;00m x \u001b[38;5;129;01min\u001b[39;00m casted_key)\n\u001b[1;32m   3810\u001b[0m     ):\n\u001b[1;32m   3811\u001b[0m         \u001b[38;5;28;01mraise\u001b[39;00m InvalidIndexError(key)\n\u001b[0;32m-> 3812\u001b[0m     \u001b[38;5;28;01mraise\u001b[39;00m \u001b[38;5;167;01mKeyError\u001b[39;00m(key) \u001b[38;5;28;01mfrom\u001b[39;00m\u001b[38;5;250m \u001b[39m\u001b[38;5;21;01merr\u001b[39;00m\n\u001b[1;32m   3813\u001b[0m \u001b[38;5;28;01mexcept\u001b[39;00m \u001b[38;5;167;01mTypeError\u001b[39;00m:\n\u001b[1;32m   3814\u001b[0m     \u001b[38;5;66;03m# If we have a listlike key, _check_indexing_error will raise\u001b[39;00m\n\u001b[1;32m   3815\u001b[0m     \u001b[38;5;66;03m#  InvalidIndexError. Otherwise we fall through and re-raise\u001b[39;00m\n\u001b[1;32m   3816\u001b[0m     \u001b[38;5;66;03m#  the TypeError.\u001b[39;00m\n\u001b[1;32m   3817\u001b[0m     \u001b[38;5;28mself\u001b[39m\u001b[38;5;241m.\u001b[39m_check_indexing_error(key)\n",
      "\u001b[0;31mKeyError\u001b[0m: ('first_name', 'last_name', 'disease')"
     ]
    }
   ],
   "source": [
    "bellevue_df['first_name', 'last_name', 'disease']"
   ]
  },
  {
   "cell_type": "markdown",
   "metadata": {},
   "source": [
    "## Count Values"
   ]
  },
  {
   "cell_type": "markdown",
   "metadata": {},
   "source": [
    "To count the number of *unique* values in a column, we can use the `.value_counts()` method."
   ]
  },
  {
   "cell_type": "markdown",
   "metadata": {},
   "source": [
    "```{sidebar} On Bellevue Almshouse \"Diseases\"\n",
    "> Some were diagnosed with medically recognizable illnesses, including “fever,” “dropsy” and “neuralgia.” Others were diagnosed with “diseases” that made visible the ways in which immigrants were failing to meet the expectations of urban citizenship. These included “destitution” and “recent emigrant.” Neither of these diagnoses reflected an immigrant’s health. Nevertheless, they were treated as pathologies, and those pathologies governed city officials perceptions of immigrants. Sickness, injuries or destitution were subsumed under the pathology of “recent emigrant.” This diagnosis also determined immigrants’ paths through the New York City public health system.\n",
    "\n",
    "-Anelise Shrout, [\"(Re)Humanizing Data: Digitally Navigating the Bellevue Almshouse\"](https://crdh.rrchnm.org/essays/v01-10-(re)-humanizing-data/)\n",
    "```"
   ]
  },
  {
   "cell_type": "code",
   "execution_count": 20,
   "metadata": {
    "scrolled": true
   },
   "outputs": [
    {
     "data": {
      "text/plain": [
       "disease\n",
       "sickness           2710\n",
       "recent emigrant    1975\n",
       "destitution         846\n",
       "fever               192\n",
       "insane              138\n",
       "pregnant            134\n",
       "sore                 79\n",
       "intemperance         71\n",
       "illegible            47\n",
       "typhus               46\n",
       "injuries             32\n",
       "ulcers               26\n",
       "ophthalmia           19\n",
       "vagrant              17\n",
       "lame                 15\n",
       "debility             12\n",
       "rheumatism           11\n",
       "blind                 9\n",
       "bronchitis            9\n",
       "dropsy                8\n",
       "phthisis              8\n",
       "syphilis              7\n",
       "old age               7\n",
       "dysentery             6\n",
       "erysipelas            6\n",
       "diarrhea              6\n",
       "cripple               5\n",
       "broken bone           5\n",
       "measles               3\n",
       "drunkenness           3\n",
       "burn                  3\n",
       "delusion dreams       2\n",
       "scrofula              2\n",
       "tuberculosis          2\n",
       "pneumonia             2\n",
       "fits                  2\n",
       "abandonment           2\n",
       "piles                 2\n",
       "sprain                2\n",
       "jaundice              2\n",
       "scarletina            2\n",
       "phagadaena            1\n",
       "spinal disease        1\n",
       "tumor                 1\n",
       "smallpox              1\n",
       "horrors               1\n",
       "hernia                1\n",
       "paralysis             1\n",
       "abscess               1\n",
       "neuralgia             1\n",
       "hypochondria          1\n",
       "ungovernable          1\n",
       "from trial            1\n",
       "sunburn               1\n",
       "colic                 1\n",
       "orchitis              1\n",
       "beggar                1\n",
       "contusion             1\n",
       "rickets               1\n",
       "ascites               1\n",
       "cut                   1\n",
       "deaf                  1\n",
       "congested head        1\n",
       "eczema                1\n",
       "bruise                1\n",
       "severed limb          1\n",
       "emotional             1\n",
       "poorly                1\n",
       "disabled              1\n",
       "bleeding              1\n",
       "seizure               1\n",
       "del femur             1\n",
       "throat cut            1\n",
       "ague                  1\n",
       "asthma                1\n",
       "Name: count, dtype: int64"
      ]
     },
     "execution_count": 20,
     "metadata": {},
     "output_type": "execute_result"
    }
   ],
   "source": [
    "bellevue_df['disease'].value_counts()"
   ]
  },
  {
   "cell_type": "markdown",
   "metadata": {},
   "source": [
    "Look through the so-called \"diseases\" recorded in the Bellevue Almshouse data and consider what these categories reflect about New York City in the 1840s, particularly with regard to immigration status."
   ]
  },
  {
   "cell_type": "markdown",
   "metadata": {},
   "source": [
    "To select the top 10 most frequent values in the \"disease\" column, we can combine `value_counts()` with regular Python list slicing."
   ]
  },
  {
   "cell_type": "code",
   "execution_count": 21,
   "metadata": {},
   "outputs": [
    {
     "data": {
      "text/plain": [
       "disease\n",
       "sickness           2710\n",
       "recent emigrant    1975\n",
       "destitution         846\n",
       "fever               192\n",
       "insane              138\n",
       "pregnant            134\n",
       "sore                 79\n",
       "intemperance         71\n",
       "illegible            47\n",
       "typhus               46\n",
       "Name: count, dtype: int64"
      ]
     },
     "execution_count": 21,
     "metadata": {},
     "output_type": "execute_result"
    }
   ],
   "source": [
    "bellevue_df['disease'].value_counts()[:10]"
   ]
  },
  {
   "cell_type": "code",
   "execution_count": 22,
   "metadata": {},
   "outputs": [
    {
     "data": {
      "text/plain": [
       "profession\n",
       "laborer       3116\n",
       "married       1586\n",
       "spinster      1522\n",
       "widow         1055\n",
       "shoemaker      158\n",
       "tailor         116\n",
       "blacksmith     104\n",
       "mason           99\n",
       "weaver          66\n",
       "carpenter       65\n",
       "Name: count, dtype: int64"
      ]
     },
     "execution_count": 22,
     "metadata": {},
     "output_type": "execute_result"
    }
   ],
   "source": [
    "bellevue_df['profession'].value_counts()[:10]"
   ]
  },
  {
   "cell_type": "markdown",
   "metadata": {},
   "source": [
    "In a similar vein, consider what these \"professions\" reflect about New York City in the 1840s."
   ]
  },
  {
   "cell_type": "markdown",
   "metadata": {},
   "source": [
    "## Question 2\n",
    "\n",
    "What were the top 5 first names, top 5 last names, top 10 first and last names pairings?\n",
    "Write your code in the code cell below."
   ]
  },
  {
   "cell_type": "code",
   "execution_count": 23,
   "metadata": {},
   "outputs": [
    {
     "data": {
      "text/plain": [
       "first_name\n",
       "Mary        979\n",
       "John        937\n",
       "James       535\n",
       "Ann         494\n",
       "Margaret    406\n",
       "Name: count, dtype: int64"
      ]
     },
     "execution_count": 23,
     "metadata": {},
     "output_type": "execute_result"
    }
   ],
   "source": [
    "# top 5 first names\n",
    "bellevue_df['first_name'].value_counts()[:5]"
   ]
  },
  {
   "cell_type": "code",
   "execution_count": 24,
   "metadata": {},
   "outputs": [
    {
     "data": {
      "text/plain": [
       "last_name\n",
       "Kelly       137\n",
       "Smith       133\n",
       "Riley       102\n",
       "Murphy       91\n",
       "Sullivan     81\n",
       "Name: count, dtype: int64"
      ]
     },
     "execution_count": 24,
     "metadata": {},
     "output_type": "execute_result"
    }
   ],
   "source": [
    "# top 5 last names\n",
    "bellevue_df['last_name'].value_counts()[:5]"
   ]
  },
  {
   "cell_type": "code",
   "execution_count": 25,
   "metadata": {},
   "outputs": [
    {
     "data": {
      "text/plain": [
       "first_name  last_name\n",
       "Mary        Smith        21\n",
       "            Kelly        18\n",
       "            Riley        12\n",
       "            Mullen       12\n",
       "            Murphy       12\n",
       "            Brown        12\n",
       "John        Sullivan     12\n",
       "Mary        Martin       11\n",
       "James       Kelly        11\n",
       "Margaret    Smith        11\n",
       "Name: count, dtype: int64"
      ]
     },
     "execution_count": 25,
     "metadata": {},
     "output_type": "execute_result"
    }
   ],
   "source": [
    "# top 10 first name, last name pairings\n",
    "bellevue_df[['first_name', 'last_name']].value_counts()[:10]"
   ]
  },
  {
   "cell_type": "markdown",
   "metadata": {},
   "source": [
    "## Make and Save Plots"
   ]
  },
  {
   "cell_type": "markdown",
   "metadata": {},
   "source": [
    "`pandas` makes it easy to create plots and data visualizations. We can make a simple plot by adding `.plot()` to any DataFrame or Series object that has appropriate numeric data."
   ]
  },
  {
   "cell_type": "code",
   "execution_count": 26,
   "metadata": {},
   "outputs": [
    {
     "name": "stderr",
     "output_type": "stream",
     "text": [
      "Matplotlib is building the font cache; this may take a moment.\n"
     ]
    },
    {
     "data": {
      "text/plain": [
       "<Axes: title={'center': 'Bellevue Almshouse:\\nMost Frequent \"Diseases\"'}, xlabel='disease'>"
      ]
     },
     "execution_count": 26,
     "metadata": {},
     "output_type": "execute_result"
    },
    {
     "data": {
      "image/png": "[encoded data removed]",
      "text/plain": [
       "<Figure size 640x480 with 1 Axes>"
      ]
     },
     "metadata": {},
     "output_type": "display_data"
    }
   ],
   "source": [
    "bellevue_df['disease'].value_counts()[:10].plot(kind='bar', title='Bellevue Almshouse:\\nMost Frequent \"Diseases\"')"
   ]
  },
  {
   "cell_type": "markdown",
   "metadata": {},
   "source": [
    " We specify the title with the `title=` parameter and the kind of plot by altering the `kind=` parameter:\n",
    "* ‘bar’ or ‘barh’ for bar plots\n",
    "\n",
    "* ‘hist’ for histogram\n",
    "\n",
    "* ‘box’ for boxplot\n",
    "\n",
    "* ‘kde’ or ‘density’ for density plots\n",
    "\n",
    "* ‘area’ for area plots\n",
    "\n",
    "* ‘scatter’ for scatter plots\n",
    "\n",
    "* ‘hexbin’ for hexagonal bin plots\n",
    "\n",
    "* ‘pie’ for pie plots\n",
    "\n",
    "* ‘line’ for line plots"
   ]
  },
  {
   "cell_type": "markdown",
   "metadata": {},
   "source": [
    "For example, to make a horizontal bar chart, we can set `kind='barh'`Note that due to calling `.get_figure().savefig(Bellevue)`, the file `Bellevue.png` will be saved in our folder. "
   ]
  },
  {
   "cell_type": "code",
   "execution_count": 27,
   "metadata": {},
   "outputs": [
    {
     "data": {
      "image/png": "[encoded data removed]",
      "text/plain": [
       "<Figure size 640x480 with 1 Axes>"
      ]
     },
     "metadata": {},
     "output_type": "display_data"
    }
   ],
   "source": [
    "bellevue_df['disease'].value_counts()[:10].plot(kind='barh',title='Bellevue Almshouse:\\nMost Frequent \"Diseases\"').get_figure().savefig('Bellevue')"
   ]
  },
  {
   "cell_type": "markdown",
   "metadata": {},
   "source": [
    "To make a pie chart, we can set `kind='pie'`"
   ]
  },
  {
   "cell_type": "code",
   "execution_count": 28,
   "metadata": {},
   "outputs": [
    {
     "data": {
      "text/plain": [
       "<Axes: title={'center': 'Bellevue Almshouse:\\nMost Frequent \"Professions\"'}, ylabel='count'>"
      ]
     },
     "execution_count": 28,
     "metadata": {},
     "output_type": "execute_result"
    },
    {
     "data": {
      "image/png": "[encoded data removed]",
      "text/plain": [
       "<Figure size 1000x1000 with 1 Axes>"
      ]
     },
     "metadata": {},
     "output_type": "display_data"
    }
   ],
   "source": [
    "bellevue_df['profession'].value_counts()[:10].plot(kind='pie', figsize=(10, 10), title='Bellevue Almshouse:\\nMost Frequent \"Professions\"')"
   ]
  },
  {
   "cell_type": "markdown",
   "metadata": {},
   "source": [
    "Finally, let's make a histogram plot of the age of the people in the dataset."
   ]
  },
  {
   "cell_type": "code",
   "execution_count": 29,
   "metadata": {},
   "outputs": [
    {
     "data": {
      "text/plain": [
       "<Axes: ylabel='Frequency'>"
      ]
     },
     "execution_count": 29,
     "metadata": {},
     "output_type": "execute_result"
    },
    {
     "data": {
      "image/png": "[encoded data removed]",
      "text/plain": [
       "<Figure size 640x480 with 1 Axes>"
      ]
     },
     "metadata": {},
     "output_type": "display_data"
    }
   ],
   "source": [
    "bellevue_df.plot.hist(y='age')"
   ]
  },
  {
   "cell_type": "markdown",
   "metadata": {},
   "source": [
    "## Choosing the appropriate chart\n",
    "\n",
    "![Graphing recommendations](graphing_recs.png)\n",
    "\n",
    "Source: [Scientific computing 2017](https://github.com/nerdcommander/scientific_computing_2017)"
   ]
  },
  {
   "cell_type": "markdown",
   "metadata": {},
   "source": [
    "To save a plot as an image file or PDF file, we can assign the plot to a variable called `ax`, short for axes.\n",
    "\n",
    "Then we can use `ax.figure.savefig('FILE-NAME.png')` or `ax.figure.savefig('FILE-NAME.pdf')`."
   ]
  },
  {
   "cell_type": "code",
   "execution_count": 30,
   "metadata": {},
   "outputs": [
    {
     "data": {
      "image/png": "[encoded data removed]",
      "text/plain": [
       "<Figure size 1000x1000 with 1 Axes>"
      ]
     },
     "metadata": {},
     "output_type": "display_data"
    }
   ],
   "source": [
    "ax = bellevue_df['profession'].value_counts()[:10].plot(kind='pie', figsize=(10, 10), title='Bellevue Almshouse:\\nMost Frequent \"Professions\"')\n",
    "ax.figure.savefig('Bellevue-professions_pie-chart.pdf')"
   ]
  },
  {
   "cell_type": "markdown",
   "metadata": {},
   "source": [
    "If your plot is being cut off in the image, see Pandas Basics Part 2 (\"Prevent Labels From Getting Cut Off\")."
   ]
  },
  {
   "cell_type": "markdown",
   "metadata": {},
   "source": [
    "## Filter/Subset Data"
   ]
  },
  {
   "cell_type": "markdown",
   "metadata": {},
   "source": [
    "We can filter a Pandas DataFrame to select only certain values. Filtering data by certain values is similar to selecting columns.\n",
    "\n",
    "We type the name of the DataFrame followed by square brackets and then, instead of inserting a column name, we insert a True/False condition. For example, to select only rows that contain the value \"teacher,\" we insert the condition `bellevue_df['profession'] == 'teacher'`. Notice that this condition is compairing a Series (or column) to a string. This is part of the magic of `pandas`: it will take care of iterating through the Series and selecting only the rows where the condition is True."
   ]
  },
  {
   "cell_type": "code",
   "execution_count": 31,
   "metadata": {},
   "outputs": [
    {
     "data": {
      "text/html": [
       "<div>\n",
       "<style scoped>\n",
       "    .dataframe tbody tr th:only-of-type {\n",
       "        vertical-align: middle;\n",
       "    }\n",
       "\n",
       "    .dataframe tbody tr th {\n",
       "        vertical-align: top;\n",
       "    }\n",
       "\n",
       "    .dataframe thead th {\n",
       "        text-align: right;\n",
       "    }\n",
       "</style>\n",
       "<table border=\"1\" class=\"dataframe\">\n",
       "  <thead>\n",
       "    <tr style=\"text-align: right;\">\n",
       "      <th></th>\n",
       "      <th>date_in</th>\n",
       "      <th>first_name</th>\n",
       "      <th>last_name</th>\n",
       "      <th>full_name</th>\n",
       "      <th>age</th>\n",
       "      <th>gender</th>\n",
       "      <th>disease</th>\n",
       "      <th>profession</th>\n",
       "      <th>children</th>\n",
       "      <th>sent_to</th>\n",
       "      <th>sender1</th>\n",
       "      <th>sender2</th>\n",
       "    </tr>\n",
       "  </thead>\n",
       "  <tbody>\n",
       "    <tr>\n",
       "      <th>2196</th>\n",
       "      <td>1847-03-12</td>\n",
       "      <td>Michael</td>\n",
       "      <td>Rush</td>\n",
       "      <td>Michael Rush</td>\n",
       "      <td>40.0</td>\n",
       "      <td>m</td>\n",
       "      <td>recent emigrant</td>\n",
       "      <td>teacher</td>\n",
       "      <td>NaN</td>\n",
       "      <td>Bellevue Garret</td>\n",
       "      <td>george w. anderson</td>\n",
       "      <td>peter c. johnston</td>\n",
       "    </tr>\n",
       "    <tr>\n",
       "      <th>2693</th>\n",
       "      <td>1846-03-11</td>\n",
       "      <td>Thomas</td>\n",
       "      <td>Brady</td>\n",
       "      <td>Thomas Brady</td>\n",
       "      <td>45.0</td>\n",
       "      <td>m</td>\n",
       "      <td>NaN</td>\n",
       "      <td>teacher</td>\n",
       "      <td>NaN</td>\n",
       "      <td>NaN</td>\n",
       "      <td>commissioners of emigration</td>\n",
       "      <td>agent</td>\n",
       "    </tr>\n",
       "    <tr>\n",
       "      <th>3774</th>\n",
       "      <td>1846-07-06</td>\n",
       "      <td>Henry</td>\n",
       "      <td>Dunlap</td>\n",
       "      <td>Henry Dunlap</td>\n",
       "      <td>66.0</td>\n",
       "      <td>m</td>\n",
       "      <td>NaN</td>\n",
       "      <td>teacher</td>\n",
       "      <td>NaN</td>\n",
       "      <td>NaN</td>\n",
       "      <td>george w. anderson</td>\n",
       "      <td>NaN</td>\n",
       "    </tr>\n",
       "    <tr>\n",
       "      <th>4284</th>\n",
       "      <td>1846-09-03</td>\n",
       "      <td>John B.</td>\n",
       "      <td>Murray</td>\n",
       "      <td>John B. Murray</td>\n",
       "      <td>45.0</td>\n",
       "      <td>m</td>\n",
       "      <td>NaN</td>\n",
       "      <td>teacher</td>\n",
       "      <td>NaN</td>\n",
       "      <td>NaN</td>\n",
       "      <td>george w. anderson</td>\n",
       "      <td>NaN</td>\n",
       "    </tr>\n",
       "    <tr>\n",
       "      <th>4287</th>\n",
       "      <td>1846-09-03</td>\n",
       "      <td>Alexander</td>\n",
       "      <td>Alcock</td>\n",
       "      <td>Alexander Alcock</td>\n",
       "      <td>46.0</td>\n",
       "      <td>m</td>\n",
       "      <td>NaN</td>\n",
       "      <td>teacher</td>\n",
       "      <td>NaN</td>\n",
       "      <td>NaN</td>\n",
       "      <td>george w. anderson</td>\n",
       "      <td>NaN</td>\n",
       "    </tr>\n",
       "    <tr>\n",
       "      <th>4612</th>\n",
       "      <td>1846-10-15</td>\n",
       "      <td>John</td>\n",
       "      <td>Dillon</td>\n",
       "      <td>John Dillon</td>\n",
       "      <td>32.0</td>\n",
       "      <td>m</td>\n",
       "      <td>NaN</td>\n",
       "      <td>teacher</td>\n",
       "      <td>NaN</td>\n",
       "      <td>NaN</td>\n",
       "      <td>george w. anderson</td>\n",
       "      <td>NaN</td>\n",
       "    </tr>\n",
       "    <tr>\n",
       "      <th>5225</th>\n",
       "      <td>1847-03-01</td>\n",
       "      <td>George F.</td>\n",
       "      <td>Robins</td>\n",
       "      <td>George F. Robins</td>\n",
       "      <td>57.0</td>\n",
       "      <td>m</td>\n",
       "      <td>destitution</td>\n",
       "      <td>teacher</td>\n",
       "      <td>NaN</td>\n",
       "      <td>Bellevue Garret</td>\n",
       "      <td>george w. anderson</td>\n",
       "      <td>edward witherell</td>\n",
       "    </tr>\n",
       "    <tr>\n",
       "      <th>6254</th>\n",
       "      <td>1847-08-05</td>\n",
       "      <td>Patrick</td>\n",
       "      <td>McGowen</td>\n",
       "      <td>Patrick McGowen</td>\n",
       "      <td>24.0</td>\n",
       "      <td>m</td>\n",
       "      <td>sickness</td>\n",
       "      <td>teacher</td>\n",
       "      <td>NaN</td>\n",
       "      <td>Hospital</td>\n",
       "      <td>william w. lyons</td>\n",
       "      <td>NaN</td>\n",
       "    </tr>\n",
       "    <tr>\n",
       "      <th>8305</th>\n",
       "      <td>1847-05-27</td>\n",
       "      <td>William</td>\n",
       "      <td>Smith</td>\n",
       "      <td>William Smith</td>\n",
       "      <td>29.0</td>\n",
       "      <td>m</td>\n",
       "      <td>destitution</td>\n",
       "      <td>teacher</td>\n",
       "      <td>NaN</td>\n",
       "      <td>Blackwell's Island</td>\n",
       "      <td>moses g. leonard</td>\n",
       "      <td>edward witherell</td>\n",
       "    </tr>\n",
       "    <tr>\n",
       "      <th>8653</th>\n",
       "      <td>1847-06-23</td>\n",
       "      <td>Thomas</td>\n",
       "      <td>Gleason</td>\n",
       "      <td>Thomas Gleason</td>\n",
       "      <td>50.0</td>\n",
       "      <td>m</td>\n",
       "      <td>sickness</td>\n",
       "      <td>teacher</td>\n",
       "      <td>NaN</td>\n",
       "      <td>Hospital</td>\n",
       "      <td>moses g. leonard</td>\n",
       "      <td>oscar s. field</td>\n",
       "    </tr>\n",
       "  </tbody>\n",
       "</table>\n",
       "</div>"
      ],
      "text/plain": [
       "         date_in first_name last_name         full_name   age gender  \\\n",
       "2196  1847-03-12    Michael      Rush      Michael Rush  40.0      m   \n",
       "2693  1846-03-11     Thomas     Brady      Thomas Brady  45.0      m   \n",
       "3774  1846-07-06      Henry    Dunlap      Henry Dunlap  66.0      m   \n",
       "4284  1846-09-03    John B.    Murray    John B. Murray  45.0      m   \n",
       "4287  1846-09-03  Alexander    Alcock  Alexander Alcock  46.0      m   \n",
       "4612  1846-10-15       John    Dillon       John Dillon  32.0      m   \n",
       "5225  1847-03-01  George F.    Robins  George F. Robins  57.0      m   \n",
       "6254  1847-08-05    Patrick   McGowen   Patrick McGowen  24.0      m   \n",
       "8305  1847-05-27    William     Smith     William Smith  29.0      m   \n",
       "8653  1847-06-23     Thomas   Gleason    Thomas Gleason  50.0      m   \n",
       "\n",
       "              disease profession children             sent_to  \\\n",
       "2196  recent emigrant    teacher      NaN     Bellevue Garret   \n",
       "2693              NaN    teacher      NaN                 NaN   \n",
       "3774              NaN    teacher      NaN                 NaN   \n",
       "4284              NaN    teacher      NaN                 NaN   \n",
       "4287              NaN    teacher      NaN                 NaN   \n",
       "4612              NaN    teacher      NaN                 NaN   \n",
       "5225      destitution    teacher      NaN     Bellevue Garret   \n",
       "6254         sickness    teacher      NaN            Hospital   \n",
       "8305      destitution    teacher      NaN  Blackwell's Island   \n",
       "8653         sickness    teacher      NaN            Hospital   \n",
       "\n",
       "                          sender1            sender2  \n",
       "2196           george w. anderson  peter c. johnston  \n",
       "2693  commissioners of emigration              agent  \n",
       "3774           george w. anderson                NaN  \n",
       "4284           george w. anderson                NaN  \n",
       "4287           george w. anderson                NaN  \n",
       "4612           george w. anderson                NaN  \n",
       "5225           george w. anderson   edward witherell  \n",
       "6254             william w. lyons                NaN  \n",
       "8305             moses g. leonard   edward witherell  \n",
       "8653             moses g. leonard     oscar s. field  "
      ]
     },
     "execution_count": 31,
     "metadata": {},
     "output_type": "execute_result"
    }
   ],
   "source": [
    "bellevue_df[bellevue_df['profession'] == 'teacher']"
   ]
  },
  {
   "cell_type": "markdown",
   "metadata": {},
   "source": [
    "It can be helpful to isolate this condition and see that it produces a long list of True/False pairs for every row."
   ]
  },
  {
   "cell_type": "code",
   "execution_count": 32,
   "metadata": {},
   "outputs": [
    {
     "data": {
      "text/plain": [
       "0       False\n",
       "1       False\n",
       "2       False\n",
       "3       False\n",
       "4       False\n",
       "        ...  \n",
       "9593    False\n",
       "9594    False\n",
       "9595    False\n",
       "9596    False\n",
       "9597    False\n",
       "Name: profession, Length: 9598, dtype: bool"
      ]
     },
     "execution_count": 32,
     "metadata": {},
     "output_type": "execute_result"
    }
   ],
   "source": [
    "bellevue_df['profession'] == 'teacher'"
   ]
  },
  {
   "cell_type": "markdown",
   "metadata": {},
   "source": [
    "Filtering DataFrames can sometimes get confusing and unwieldy (as conditions within conditions pile up like Russian Matryoshka Dolls). It can be helpful to make a separate variable for a filter, as below."
   ]
  },
  {
   "cell_type": "code",
   "execution_count": 34,
   "metadata": {},
   "outputs": [],
   "source": [
    "teacher_filter = bellevue_df['profession'] == 'teacher'"
   ]
  },
  {
   "cell_type": "code",
   "execution_count": 35,
   "metadata": {},
   "outputs": [
    {
     "data": {
      "text/html": [
       "<div>\n",
       "<style scoped>\n",
       "    .dataframe tbody tr th:only-of-type {\n",
       "        vertical-align: middle;\n",
       "    }\n",
       "\n",
       "    .dataframe tbody tr th {\n",
       "        vertical-align: top;\n",
       "    }\n",
       "\n",
       "    .dataframe thead th {\n",
       "        text-align: right;\n",
       "    }\n",
       "</style>\n",
       "<table border=\"1\" class=\"dataframe\">\n",
       "  <thead>\n",
       "    <tr style=\"text-align: right;\">\n",
       "      <th></th>\n",
       "      <th>date_in</th>\n",
       "      <th>first_name</th>\n",
       "      <th>last_name</th>\n",
       "      <th>full_name</th>\n",
       "      <th>age</th>\n",
       "      <th>gender</th>\n",
       "      <th>disease</th>\n",
       "      <th>profession</th>\n",
       "      <th>children</th>\n",
       "      <th>sent_to</th>\n",
       "      <th>sender1</th>\n",
       "      <th>sender2</th>\n",
       "    </tr>\n",
       "  </thead>\n",
       "  <tbody>\n",
       "    <tr>\n",
       "      <th>2196</th>\n",
       "      <td>1847-03-12</td>\n",
       "      <td>Michael</td>\n",
       "      <td>Rush</td>\n",
       "      <td>Michael Rush</td>\n",
       "      <td>40.0</td>\n",
       "      <td>m</td>\n",
       "      <td>recent emigrant</td>\n",
       "      <td>teacher</td>\n",
       "      <td>NaN</td>\n",
       "      <td>Bellevue Garret</td>\n",
       "      <td>george w. anderson</td>\n",
       "      <td>peter c. johnston</td>\n",
       "    </tr>\n",
       "    <tr>\n",
       "      <th>2693</th>\n",
       "      <td>1846-03-11</td>\n",
       "      <td>Thomas</td>\n",
       "      <td>Brady</td>\n",
       "      <td>Thomas Brady</td>\n",
       "      <td>45.0</td>\n",
       "      <td>m</td>\n",
       "      <td>NaN</td>\n",
       "      <td>teacher</td>\n",
       "      <td>NaN</td>\n",
       "      <td>NaN</td>\n",
       "      <td>commissioners of emigration</td>\n",
       "      <td>agent</td>\n",
       "    </tr>\n",
       "    <tr>\n",
       "      <th>3774</th>\n",
       "      <td>1846-07-06</td>\n",
       "      <td>Henry</td>\n",
       "      <td>Dunlap</td>\n",
       "      <td>Henry Dunlap</td>\n",
       "      <td>66.0</td>\n",
       "      <td>m</td>\n",
       "      <td>NaN</td>\n",
       "      <td>teacher</td>\n",
       "      <td>NaN</td>\n",
       "      <td>NaN</td>\n",
       "      <td>george w. anderson</td>\n",
       "      <td>NaN</td>\n",
       "    </tr>\n",
       "    <tr>\n",
       "      <th>4284</th>\n",
       "      <td>1846-09-03</td>\n",
       "      <td>John B.</td>\n",
       "      <td>Murray</td>\n",
       "      <td>John B. Murray</td>\n",
       "      <td>45.0</td>\n",
       "      <td>m</td>\n",
       "      <td>NaN</td>\n",
       "      <td>teacher</td>\n",
       "      <td>NaN</td>\n",
       "      <td>NaN</td>\n",
       "      <td>george w. anderson</td>\n",
       "      <td>NaN</td>\n",
       "    </tr>\n",
       "    <tr>\n",
       "      <th>4287</th>\n",
       "      <td>1846-09-03</td>\n",
       "      <td>Alexander</td>\n",
       "      <td>Alcock</td>\n",
       "      <td>Alexander Alcock</td>\n",
       "      <td>46.0</td>\n",
       "      <td>m</td>\n",
       "      <td>NaN</td>\n",
       "      <td>teacher</td>\n",
       "      <td>NaN</td>\n",
       "      <td>NaN</td>\n",
       "      <td>george w. anderson</td>\n",
       "      <td>NaN</td>\n",
       "    </tr>\n",
       "    <tr>\n",
       "      <th>4612</th>\n",
       "      <td>1846-10-15</td>\n",
       "      <td>John</td>\n",
       "      <td>Dillon</td>\n",
       "      <td>John Dillon</td>\n",
       "      <td>32.0</td>\n",
       "      <td>m</td>\n",
       "      <td>NaN</td>\n",
       "      <td>teacher</td>\n",
       "      <td>NaN</td>\n",
       "      <td>NaN</td>\n",
       "      <td>george w. anderson</td>\n",
       "      <td>NaN</td>\n",
       "    </tr>\n",
       "    <tr>\n",
       "      <th>5225</th>\n",
       "      <td>1847-03-01</td>\n",
       "      <td>George F.</td>\n",
       "      <td>Robins</td>\n",
       "      <td>George F. Robins</td>\n",
       "      <td>57.0</td>\n",
       "      <td>m</td>\n",
       "      <td>destitution</td>\n",
       "      <td>teacher</td>\n",
       "      <td>NaN</td>\n",
       "      <td>Bellevue Garret</td>\n",
       "      <td>george w. anderson</td>\n",
       "      <td>edward witherell</td>\n",
       "    </tr>\n",
       "    <tr>\n",
       "      <th>6254</th>\n",
       "      <td>1847-08-05</td>\n",
       "      <td>Patrick</td>\n",
       "      <td>McGowen</td>\n",
       "      <td>Patrick McGowen</td>\n",
       "      <td>24.0</td>\n",
       "      <td>m</td>\n",
       "      <td>sickness</td>\n",
       "      <td>teacher</td>\n",
       "      <td>NaN</td>\n",
       "      <td>Hospital</td>\n",
       "      <td>william w. lyons</td>\n",
       "      <td>NaN</td>\n",
       "    </tr>\n",
       "    <tr>\n",
       "      <th>8305</th>\n",
       "      <td>1847-05-27</td>\n",
       "      <td>William</td>\n",
       "      <td>Smith</td>\n",
       "      <td>William Smith</td>\n",
       "      <td>29.0</td>\n",
       "      <td>m</td>\n",
       "      <td>destitution</td>\n",
       "      <td>teacher</td>\n",
       "      <td>NaN</td>\n",
       "      <td>Blackwell's Island</td>\n",
       "      <td>moses g. leonard</td>\n",
       "      <td>edward witherell</td>\n",
       "    </tr>\n",
       "    <tr>\n",
       "      <th>8653</th>\n",
       "      <td>1847-06-23</td>\n",
       "      <td>Thomas</td>\n",
       "      <td>Gleason</td>\n",
       "      <td>Thomas Gleason</td>\n",
       "      <td>50.0</td>\n",
       "      <td>m</td>\n",
       "      <td>sickness</td>\n",
       "      <td>teacher</td>\n",
       "      <td>NaN</td>\n",
       "      <td>Hospital</td>\n",
       "      <td>moses g. leonard</td>\n",
       "      <td>oscar s. field</td>\n",
       "    </tr>\n",
       "  </tbody>\n",
       "</table>\n",
       "</div>"
      ],
      "text/plain": [
       "         date_in first_name last_name         full_name   age gender  \\\n",
       "2196  1847-03-12    Michael      Rush      Michael Rush  40.0      m   \n",
       "2693  1846-03-11     Thomas     Brady      Thomas Brady  45.0      m   \n",
       "3774  1846-07-06      Henry    Dunlap      Henry Dunlap  66.0      m   \n",
       "4284  1846-09-03    John B.    Murray    John B. Murray  45.0      m   \n",
       "4287  1846-09-03  Alexander    Alcock  Alexander Alcock  46.0      m   \n",
       "4612  1846-10-15       John    Dillon       John Dillon  32.0      m   \n",
       "5225  1847-03-01  George F.    Robins  George F. Robins  57.0      m   \n",
       "6254  1847-08-05    Patrick   McGowen   Patrick McGowen  24.0      m   \n",
       "8305  1847-05-27    William     Smith     William Smith  29.0      m   \n",
       "8653  1847-06-23     Thomas   Gleason    Thomas Gleason  50.0      m   \n",
       "\n",
       "              disease profession children             sent_to  \\\n",
       "2196  recent emigrant    teacher      NaN     Bellevue Garret   \n",
       "2693              NaN    teacher      NaN                 NaN   \n",
       "3774              NaN    teacher      NaN                 NaN   \n",
       "4284              NaN    teacher      NaN                 NaN   \n",
       "4287              NaN    teacher      NaN                 NaN   \n",
       "4612              NaN    teacher      NaN                 NaN   \n",
       "5225      destitution    teacher      NaN     Bellevue Garret   \n",
       "6254         sickness    teacher      NaN            Hospital   \n",
       "8305      destitution    teacher      NaN  Blackwell's Island   \n",
       "8653         sickness    teacher      NaN            Hospital   \n",
       "\n",
       "                          sender1            sender2  \n",
       "2196           george w. anderson  peter c. johnston  \n",
       "2693  commissioners of emigration              agent  \n",
       "3774           george w. anderson                NaN  \n",
       "4284           george w. anderson                NaN  \n",
       "4287           george w. anderson                NaN  \n",
       "4612           george w. anderson                NaN  \n",
       "5225           george w. anderson   edward witherell  \n",
       "6254             william w. lyons                NaN  \n",
       "8305             moses g. leonard   edward witherell  \n",
       "8653             moses g. leonard     oscar s. field  "
      ]
     },
     "execution_count": 35,
     "metadata": {},
     "output_type": "execute_result"
    }
   ],
   "source": [
    "bellevue_df[teacher_filter]"
   ]
  },
  {
   "cell_type": "markdown",
   "metadata": {},
   "source": [
    "In a similar vein, it's often useful to make a new variable for a filtered DataFrame. For example, let's say we wanted to look at only the women in the dataset and see the most commons professions."
   ]
  },
  {
   "cell_type": "code",
   "execution_count": 36,
   "metadata": {},
   "outputs": [],
   "source": [
    "women_filter = bellevue_df['gender'] == 'f'"
   ]
  },
  {
   "cell_type": "code",
   "execution_count": 37,
   "metadata": {},
   "outputs": [],
   "source": [
    "# store the results of DataFrame obtained by women_filter in bellevue_women\n",
    "bellevue_women = bellevue_df[women_filter]"
   ]
  },
  {
   "cell_type": "code",
   "execution_count": 38,
   "metadata": {},
   "outputs": [
    {
     "data": {
      "text/plain": [
       "profession\n",
       "married        1566\n",
       "spinster       1508\n",
       "widow          1045\n",
       "laborer          27\n",
       "seamstress        3\n",
       "baker             2\n",
       "single            2\n",
       "waiter            2\n",
       "cook              1\n",
       "tailor            1\n",
       "sham              1\n",
       "carpenter         1\n",
       "weaver            1\n",
       "peddler           1\n",
       "gardener          1\n",
       "(illegible)       1\n",
       "servant           1\n",
       "Name: count, dtype: int64"
      ]
     },
     "execution_count": 38,
     "metadata": {},
     "output_type": "execute_result"
    }
   ],
   "source": [
    "# determine the professions of women only\n",
    "bellevue_women['profession'].value_counts()"
   ]
  },
  {
   "cell_type": "code",
   "execution_count": 39,
   "metadata": {},
   "outputs": [
    {
     "data": {
      "text/plain": [
       "<Axes: title={'center': 'top 3 professions women'}, ylabel='count'>"
      ]
     },
     "execution_count": 39,
     "metadata": {},
     "output_type": "execute_result"
    },
    {
     "data": {
      "image/png": "[encoded data removed]",
      "text/plain": [
       "<Figure size 1000x1000 with 1 Axes>"
      ]
     },
     "metadata": {},
     "output_type": "display_data"
    }
   ],
   "source": [
    "# Plot the top 3 professions of women as a pie chart\n",
    "bellevue_women['profession'].value_counts()[:3].plot(kind='pie', figsize=(10, 10), title='top 3 professions women')"
   ]
  },
  {
   "cell_type": "markdown",
   "metadata": {},
   "source": [
    "There's a lot we can do with filters beyond exact value matches with an equals operator `==`.\n",
    "\n",
    "We can also incorporate `>`, `<`, `>=`, `<=` with integers, floats, and even dates. For example, we can filter the DataFrame for only people who arrived to the Bellevue Almshouse on or after '1847-04-17'"
   ]
  },
  {
   "cell_type": "code",
   "execution_count": 157,
   "metadata": {},
   "outputs": [],
   "source": [
    "date_filter = bellevue_df['date_in'] >= '1847-04-17'"
   ]
  },
  {
   "cell_type": "code",
   "execution_count": 158,
   "metadata": {
    "scrolled": true
   },
   "outputs": [],
   "source": [
    "bellevue_df[date_filter]"
   ]
  },
  {
   "cell_type": "markdown",
   "metadata": {},
   "source": [
    "## Write to CSV"
   ]
  },
  {
   "cell_type": "markdown",
   "metadata": {},
   "source": [
    "To output a new CSV file, we can use the `.to_csv` method with a name for the file in quotation marks. "
   ]
  },
  {
   "cell_type": "markdown",
   "metadata": {},
   "source": [
    "Here's how we might output a new CSV file that only includes rows with women.  This will create the `Bellevue_women.csv` file in our folder. "
   ]
  },
  {
   "cell_type": "code",
   "execution_count": 159,
   "metadata": {},
   "outputs": [],
   "source": [
    "bellevue_women.to_csv(\"Bellevue_women.csv\", encoding='utf-8', index=False)"
   ]
  },
  {
   "cell_type": "markdown",
   "metadata": {},
   "source": [
    "In addition to a filename, we're also specifying that the encoding is utf-8 and that the Index (the bolded left-most column) is not included in the CSV file."
   ]
  },
  {
   "cell_type": "code",
   "execution_count": 160,
   "metadata": {},
   "outputs": [],
   "source": [
    "bellevue_women"
   ]
  },
  {
   "cell_type": "markdown",
   "metadata": {},
   "source": [
    "## Further Resources"
   ]
  },
  {
   "cell_type": "markdown",
   "metadata": {},
   "source": [
    "- [10 minutes to Pandas](https://pandas.pydata.org/pandas-docs/stable/user_guide/10min.html), Pandas Official Documentation\n",
    "- [\"Data Manipulation with Pandas\"](https://jakevdp.github.io/PythonDataScienceHandbook/03.00-introduction-to-pandas.html), *Python Data Science*, Jake VanderPlas"
   ]
  }
 ],
 "metadata": {
  "kernelspec": {
   "display_name": ".venv",
   "language": "python",
   "name": "python3"
  },
  "language_info": {
   "codemirror_mode": {
    "name": "ipython",
    "version": 3
   },
   "file_extension": ".py",
   "mimetype": "text/x-python",
   "name": "python",
   "nbconvert_exporter": "python",
   "pygments_lexer": "ipython3",
   "version": "3.13.1"
  }
 },
 "nbformat": 4,
 "nbformat_minor": 4
}
