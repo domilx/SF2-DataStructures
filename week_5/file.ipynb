{
 "cells": [
  {
   "cell_type": "markdown",
   "metadata": {},
   "source": [
    "- given a list of lists, remove the empty list from it\n",
    "- by keeping the order of the elements in the list\n",
    "\n",
    "- write the same thing using a list comprehension\n",
    "\n",
    "- remove the empty list by modifying the original list of lists"
   ]
  },
  {
   "cell_type": "code",
   "execution_count": null,
   "metadata": {},
   "outputs": [
    {
     "name": "stdout",
     "output_type": "stream",
     "text": [
      "[[1, 2], [3, 4], [5]]\n",
      "[[1, 2], [3, 4], [5]]\n",
      "[[1, 2], [3, 4], [5]]\n",
      "[[1, 2], [3, 4], [5]]\n"
     ]
    }
   ],
   "source": [
    "lst = [[1, 2], [], [3, 4], [], [5]]\n",
    "result = []\n",
    "\n",
    "for inner_lst in lst:\n",
    "    if inner_lst:\n",
    "        result.append(inner_lst)\n",
    "\n",
    "print(result)\n",
    "\n",
    "result2 = [inner_lst for inner_lst in lst if inner_lst]\n",
    "print(result2)\n",
    "\n",
    "result3 = list(filter(None, lst))\n",
    "print(result3)\n",
    "\n",
    "lst = [inner_lst for inner_lst in lst if inner_lst]\n",
    "print(lst)"
   ]
  },
  {
   "cell_type": "markdown",
   "metadata": {},
   "source": [
    "1. use a list comprehension to return square of each element in the list that are > 3 and < 11\n",
    "2. given a list lst and num, check if every value of num appears in lst. if so, add 5 to it and return"
   ]
  },
  {
   "cell_type": "code",
   "execution_count": 9,
   "metadata": {},
   "outputs": [
    {
     "data": {
      "text/plain": [
       "[35, 39, 17, 38]"
      ]
     },
     "execution_count": 9,
     "metadata": {},
     "output_type": "execute_result"
    }
   ],
   "source": [
    "lst = [1,2,3,4,5,6,7,8,9,10,11,25,324,2]\n",
    "\n",
    "b = [num**2 for num in lst if 3 < num < 11]\n",
    "b\n",
    "\n",
    "lst = [30,34,36,47,52,77,33,12]\n",
    "num = [30,46,34,88,99,12,33]\n",
    "\n",
    "a = [x + 5 for x in num if x in lst]\n",
    "a"
   ]
  },
  {
   "cell_type": "markdown",
   "metadata": {},
   "source": [
    "given a list of lists, where the iner list elements are strings\n",
    "change the values from string to integer\n",
    "print the list"
   ]
  },
  {
   "cell_type": "code",
   "execution_count": null,
   "metadata": {},
   "outputs": [
    {
     "name": "stdout",
     "output_type": "stream",
     "text": [
      "[[4, 8], [15, 16], [23, 42]]\n",
      "[4, 8, 15, 16, 23, 42]\n"
     ]
    }
   ],
   "source": [
    "list_2d = [[\"4\", \"8\"], [\"15\", \"16\"], [\"23\", \"42\"]]\n",
    "\n",
    "result = [[int(num) for num in inner] for inner in list_2d]\n",
    "print(result)\n",
    "\n",
    "reduced = [int(num) for inner in list_2d for num in inner]\n",
    "print(reduced)"
   ]
  },
  {
   "cell_type": "markdown",
   "metadata": {},
   "source": [
    "Sort a list of lists\n",
    "\n",
    "- given a list of lists, sort each sublist ind descending order"
   ]
  },
  {
   "cell_type": "code",
   "execution_count": 1,
   "metadata": {},
   "outputs": [
    {
     "name": "stdout",
     "output_type": "stream",
     "text": [
      "[[4, 2, 0], [6, 5, 1], [8, 7, 3]]\n"
     ]
    }
   ],
   "source": [
    "lst = [[2, 4, 0], [1, 5, 6], [7, 8, 3]]\n",
    "\n",
    "def sort_sublists(lst, descending=True):\n",
    "    # This is a Bubble Sort algorithm\n",
    "    result = []\n",
    "    for inner in lst:\n",
    "        sorted_inner = inner\n",
    "        for i in range(len(sorted_inner)):\n",
    "            for j in range(i + 1, len(sorted_inner)):\n",
    "                if (descending and sorted_inner[i] < sorted_inner[j]) or (not descending and sorted_inner[i] > sorted_inner[j]):\n",
    "                    sorted_inner[i], sorted_inner[j] = sorted_inner[j], sorted_inner[i]\n",
    "        result += [sorted_inner]\n",
    "    return result\n",
    "\n",
    "result = sort_sublists(lst, descending=True)\n",
    "print(result)\n"
   ]
  }
 ],
 "metadata": {
  "kernelspec": {
   "display_name": ".venv",
   "language": "python",
   "name": "python3"
  },
  "language_info": {
   "codemirror_mode": {
    "name": "ipython",
    "version": 3
   },
   "file_extension": ".py",
   "mimetype": "text/x-python",
   "name": "python",
   "nbconvert_exporter": "python",
   "pygments_lexer": "ipython3",
   "version": "3.13.2"
  }
 },
 "nbformat": 4,
 "nbformat_minor": 2
}
