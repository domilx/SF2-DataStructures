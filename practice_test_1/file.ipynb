{
  "cells": [
    {
      "cell_type": "markdown",
      "metadata": {},
      "source": [
        "# Question 1: Pandas + NumPy + Matplotlib (Medium Difficulty)\n",
        "\n",
        "**Task**: Write a Python script that reads a CSV file containing 'Date' and 'Sales' columns, stores the data in a Pandas DataFrame, calculates a 7-day rolling average using NumPy, and plots both the raw data and the rolling average on one line chart using Matplotlib.\n",
        "\n",
        "- **Example Input (CSV)**:\n",
        "```\n",
        "Date,Sales\n",
        "2025-01-01, 100\n",
        "2025-01-02, 150\n",
        "2025-01-03, 90\n",
        "2025-01-04, 200\n",
        "...\n",
        "```\n",
        "- **Example Output**: A line chart with:\n",
        "  1. Raw sales per day.\n",
        "  2. 7-day rolling average.\n"
      ]
    },
    {
      "cell_type": "code",
      "execution_count": null,
      "metadata": {},
      "outputs": [],
      "source": [
        "import pandas as pd\n",
        "import numpy as np\n",
        "import matplotlib.pyplot as plt\n",
        "\n",
        "# Example code to accomplish the task (assume a file named 'sales_data.csv'):\n",
        "df = pd.read_csv('sales_data.csv')  # Contains 'Date' and 'Sales' columns\n",
        "df['Date'] = pd.to_datetime(df['Date'])\n",
        "df.set_index('Date', inplace=True)\n",
        "\n",
        "# Calculate rolling 7-day average (uses Pandas but NumPy can be used similarly)\n",
        "df['Rolling_Avg'] = df['Sales'].rolling(window=7).mean()\n",
        "\n",
        "# Plot the data\n",
        "plt.figure()\n",
        "plt.plot(df.index, df['Sales'], label='Daily Sales')\n",
        "plt.plot(df.index, df['Rolling_Avg'], label='7-Day Rolling Average')\n",
        "plt.xlabel('Date')\n",
        "plt.ylabel('Sales')\n",
        "plt.title('Daily Sales vs. 7-Day Rolling Average')\n",
        "plt.legend()\n",
        "plt.show()"
      ]
    },
    {
      "cell_type": "markdown",
      "metadata": {},
      "source": [
        "# Question 2: Nested Loops (Difficult - Trace the Code)\n",
        "\n",
        "**Task**: Given the code below, determine the final value of `result` after all loops finish. Show the iteration steps in your answer.\n",
        "\n",
        "```python\n",
        "result = 0\n",
        "for i in range(1, 4):\n",
        "    for j in range(i, 4):\n",
        "        for k in range(1, j+1):\n",
        "            result += (i * j - k)\n",
        "```"
      ]
    },
    {
      "cell_type": "code",
      "execution_count": 1,
      "metadata": {},
      "outputs": [
        {
          "name": "stdout",
          "output_type": "stream",
          "text": [
            "Final result: 42\n"
          ]
        }
      ],
      "source": [
        "# Let's quickly verify the final result:\n",
        "result = 0\n",
        "for i in range(1, 4):\n",
        "    for j in range(i, 4):\n",
        "        for k in range(1, j+1):\n",
        "            result += (i * j - k)\n",
        "\n",
        "print(\"Final result:\", result)"
      ]
    }
  ],
  "metadata": {
    "kernelspec": {
      "display_name": ".venv",
      "language": "python",
      "name": "python3"
    },
    "language_info": {
      "codemirror_mode": {
        "name": "ipython",
        "version": 3
      },
      "file_extension": ".py",
      "mimetype": "text/x-python",
      "name": "python",
      "nbconvert_exporter": "python",
      "pygments_lexer": "ipython3",
      "version": "3.13.2"
    },
    "title": "Midterm Questions"
  },
  "nbformat": 4,
  "nbformat_minor": 5
}
